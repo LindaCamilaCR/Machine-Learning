{
  "nbformat": 4,
  "nbformat_minor": 0,
  "metadata": {
    "colab": {
      "name": "Análisis_Exploratorio_de_Datos.ipynb",
      "provenance": [],
      "collapsed_sections": [],
      "toc_visible": true
    },
    "kernelspec": {
      "name": "python3",
      "display_name": "Python 3"
    },
    "language_info": {
      "name": "python"
    }
  },
  "cells": [
    {
      "cell_type": "markdown",
      "metadata": {
        "id": "f8tYXOXkuPs_"
      },
      "source": [
        "##**ANÁLISIS EXPLORATORIO DE DATOS**\n",
        "\n",
        "> **Proyecto No. 1**\n",
        "\n",
        "\n",
        "\n"
      ]
    },
    {
      "cell_type": "markdown",
      "metadata": {
        "id": "I9co_OsJ49rm"
      },
      "source": [
        "*Juan Felipe Yepes*\n",
        "\n",
        "*Jennifer Paola Sanchez*\n",
        "\n",
        "*Linda Camila Castañeda*"
      ]
    },
    {
      "cell_type": "markdown",
      "metadata": {
        "id": "l8BPVvJ04iPX"
      },
      "source": [
        "###**Descripción de la Base de Datos**\n",
        "######La fuente de información corresponde a *KAGGLE* que contiene diferentes bases de datos de dominio público y para este caso corresponde a las cifras del **World Happiness Report del año 2021** que se trata del noveno informe cuantitativo sobre la situación de la felicidad global relacionada con diferentes variables políticas, económicas, sociales y demográficas que los Gobiernos utilizan para informar sus decisiones de formulación de política pública y realizar mediciones del bienestar para evaluar el progreso de las naciones. Los informes revisan el estado de la felicidad en el mundo actual y muestran cómo la nueva ciencia de la felicidad explica las variaciones personales y nacionales. Para este reporte por medir un año atipico, se centraron en la relación entre el bienestar y covid-19 para la clasificación de los países y realizaron la comparación con los promedios de tres años anteriores.\n",
        "\n",
        "---*La BD tiene una dimensión de 149 filas por 20 columnas.*"
      ]
    },
    {
      "cell_type": "markdown",
      "metadata": {
        "id": "Xkm8er5lCoJJ"
      },
      "source": [
        "![World_happiness_2021.jpg](data:image/jpeg;base64,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)"
      ]
    },
    {
      "cell_type": "code",
      "metadata": {
        "id": "8QOt8PHO7MeJ"
      },
      "source": [
        "import pandas as pd"
      ],
      "execution_count": null,
      "outputs": []
    },
    {
      "cell_type": "code",
      "metadata": {
        "id": "W50dLo7a7dse"
      },
      "source": [
        "Felicidad_mundial = pd.read_excel(\"/content/world-happiness-report-2021 (1).xlsx\")"
      ],
      "execution_count": null,
      "outputs": []
    },
    {
      "cell_type": "code",
      "metadata": {
        "colab": {
          "base_uri": "https://localhost:8080/",
          "height": 745
        },
        "id": "7TkMBy8-8B4F",
        "outputId": "ba1c50fc-3af4-47a5-dda9-1868b9a4e5c4"
      },
      "source": [
        "Felicidad_mundial"
      ],
      "execution_count": null,
      "outputs": [
        {
          "output_type": "execute_result",
          "data": {
            "text/html": [
              "<div>\n",
              "<style scoped>\n",
              "    .dataframe tbody tr th:only-of-type {\n",
              "        vertical-align: middle;\n",
              "    }\n",
              "\n",
              "    .dataframe tbody tr th {\n",
              "        vertical-align: top;\n",
              "    }\n",
              "\n",
              "    .dataframe thead th {\n",
              "        text-align: right;\n",
              "    }\n",
              "</style>\n",
              "<table border=\"1\" class=\"dataframe\">\n",
              "  <thead>\n",
              "    <tr style=\"text-align: right;\">\n",
              "      <th></th>\n",
              "      <th>Country name</th>\n",
              "      <th>Regional indicator</th>\n",
              "      <th>Ladder score</th>\n",
              "      <th>Standard error of ladder score</th>\n",
              "      <th>upperwhisker</th>\n",
              "      <th>lowerwhisker</th>\n",
              "      <th>Logged GDP per capita</th>\n",
              "      <th>Social support</th>\n",
              "      <th>Healthy life expectancy</th>\n",
              "      <th>Freedom to make life choices</th>\n",
              "      <th>Generosity</th>\n",
              "      <th>Perceptions of corruption</th>\n",
              "      <th>Ladder score in Dystopia</th>\n",
              "      <th>Explained by: Log GDP per capita</th>\n",
              "      <th>Explained by: Social support</th>\n",
              "      <th>Explained by: Healthy life expectancy</th>\n",
              "      <th>Explained by: Freedom to make life choices</th>\n",
              "      <th>Explained by: Generosity</th>\n",
              "      <th>Explained by: Perceptions of corruption</th>\n",
              "      <th>Dystopia + residual</th>\n",
              "    </tr>\n",
              "  </thead>\n",
              "  <tbody>\n",
              "    <tr>\n",
              "      <th>0</th>\n",
              "      <td>Finland</td>\n",
              "      <td>Western Europe</td>\n",
              "      <td>7.842</td>\n",
              "      <td>0.032</td>\n",
              "      <td>7.904</td>\n",
              "      <td>7.780</td>\n",
              "      <td>10.775</td>\n",
              "      <td>0.954</td>\n",
              "      <td>72.000</td>\n",
              "      <td>0.949</td>\n",
              "      <td>-0.098</td>\n",
              "      <td>0.186</td>\n",
              "      <td>2.43</td>\n",
              "      <td>1.446</td>\n",
              "      <td>1.106</td>\n",
              "      <td>0.741</td>\n",
              "      <td>0.691</td>\n",
              "      <td>0.124</td>\n",
              "      <td>0.481</td>\n",
              "      <td>3.253</td>\n",
              "    </tr>\n",
              "    <tr>\n",
              "      <th>1</th>\n",
              "      <td>Denmark</td>\n",
              "      <td>Western Europe</td>\n",
              "      <td>7.620</td>\n",
              "      <td>0.035</td>\n",
              "      <td>7.687</td>\n",
              "      <td>7.552</td>\n",
              "      <td>10.933</td>\n",
              "      <td>0.954</td>\n",
              "      <td>72.700</td>\n",
              "      <td>0.946</td>\n",
              "      <td>0.030</td>\n",
              "      <td>0.179</td>\n",
              "      <td>2.43</td>\n",
              "      <td>1.502</td>\n",
              "      <td>1.108</td>\n",
              "      <td>0.763</td>\n",
              "      <td>0.686</td>\n",
              "      <td>0.208</td>\n",
              "      <td>0.485</td>\n",
              "      <td>2.868</td>\n",
              "    </tr>\n",
              "    <tr>\n",
              "      <th>2</th>\n",
              "      <td>Switzerland</td>\n",
              "      <td>Western Europe</td>\n",
              "      <td>7.571</td>\n",
              "      <td>0.036</td>\n",
              "      <td>7.643</td>\n",
              "      <td>7.500</td>\n",
              "      <td>11.117</td>\n",
              "      <td>0.942</td>\n",
              "      <td>74.400</td>\n",
              "      <td>0.919</td>\n",
              "      <td>0.025</td>\n",
              "      <td>0.292</td>\n",
              "      <td>2.43</td>\n",
              "      <td>1.566</td>\n",
              "      <td>1.079</td>\n",
              "      <td>0.816</td>\n",
              "      <td>0.653</td>\n",
              "      <td>0.204</td>\n",
              "      <td>0.413</td>\n",
              "      <td>2.839</td>\n",
              "    </tr>\n",
              "    <tr>\n",
              "      <th>3</th>\n",
              "      <td>Iceland</td>\n",
              "      <td>Western Europe</td>\n",
              "      <td>7.554</td>\n",
              "      <td>0.059</td>\n",
              "      <td>7.670</td>\n",
              "      <td>7.438</td>\n",
              "      <td>10.878</td>\n",
              "      <td>0.983</td>\n",
              "      <td>73.000</td>\n",
              "      <td>0.955</td>\n",
              "      <td>0.160</td>\n",
              "      <td>0.673</td>\n",
              "      <td>2.43</td>\n",
              "      <td>1.482</td>\n",
              "      <td>1.172</td>\n",
              "      <td>0.772</td>\n",
              "      <td>0.698</td>\n",
              "      <td>0.293</td>\n",
              "      <td>0.170</td>\n",
              "      <td>2.967</td>\n",
              "    </tr>\n",
              "    <tr>\n",
              "      <th>4</th>\n",
              "      <td>Netherlands</td>\n",
              "      <td>Western Europe</td>\n",
              "      <td>7.464</td>\n",
              "      <td>0.027</td>\n",
              "      <td>7.518</td>\n",
              "      <td>7.410</td>\n",
              "      <td>10.932</td>\n",
              "      <td>0.942</td>\n",
              "      <td>72.400</td>\n",
              "      <td>0.913</td>\n",
              "      <td>0.175</td>\n",
              "      <td>0.338</td>\n",
              "      <td>2.43</td>\n",
              "      <td>1.501</td>\n",
              "      <td>1.079</td>\n",
              "      <td>0.753</td>\n",
              "      <td>0.647</td>\n",
              "      <td>0.302</td>\n",
              "      <td>0.384</td>\n",
              "      <td>2.798</td>\n",
              "    </tr>\n",
              "    <tr>\n",
              "      <th>...</th>\n",
              "      <td>...</td>\n",
              "      <td>...</td>\n",
              "      <td>...</td>\n",
              "      <td>...</td>\n",
              "      <td>...</td>\n",
              "      <td>...</td>\n",
              "      <td>...</td>\n",
              "      <td>...</td>\n",
              "      <td>...</td>\n",
              "      <td>...</td>\n",
              "      <td>...</td>\n",
              "      <td>...</td>\n",
              "      <td>...</td>\n",
              "      <td>...</td>\n",
              "      <td>...</td>\n",
              "      <td>...</td>\n",
              "      <td>...</td>\n",
              "      <td>...</td>\n",
              "      <td>...</td>\n",
              "      <td>...</td>\n",
              "    </tr>\n",
              "    <tr>\n",
              "      <th>144</th>\n",
              "      <td>Lesotho</td>\n",
              "      <td>Sub-Saharan Africa</td>\n",
              "      <td>3.512</td>\n",
              "      <td>0.120</td>\n",
              "      <td>3.748</td>\n",
              "      <td>3.276</td>\n",
              "      <td>7.926</td>\n",
              "      <td>0.787</td>\n",
              "      <td>48.700</td>\n",
              "      <td>0.715</td>\n",
              "      <td>-0.131</td>\n",
              "      <td>0.915</td>\n",
              "      <td>2.43</td>\n",
              "      <td>0.451</td>\n",
              "      <td>0.731</td>\n",
              "      <td>0.007</td>\n",
              "      <td>0.405</td>\n",
              "      <td>0.103</td>\n",
              "      <td>0.015</td>\n",
              "      <td>1.800</td>\n",
              "    </tr>\n",
              "    <tr>\n",
              "      <th>145</th>\n",
              "      <td>Botswana</td>\n",
              "      <td>Sub-Saharan Africa</td>\n",
              "      <td>3.467</td>\n",
              "      <td>0.074</td>\n",
              "      <td>3.611</td>\n",
              "      <td>3.322</td>\n",
              "      <td>9.782</td>\n",
              "      <td>0.784</td>\n",
              "      <td>59.269</td>\n",
              "      <td>0.824</td>\n",
              "      <td>-0.246</td>\n",
              "      <td>0.801</td>\n",
              "      <td>2.43</td>\n",
              "      <td>1.099</td>\n",
              "      <td>0.724</td>\n",
              "      <td>0.340</td>\n",
              "      <td>0.539</td>\n",
              "      <td>0.027</td>\n",
              "      <td>0.088</td>\n",
              "      <td>0.648</td>\n",
              "    </tr>\n",
              "    <tr>\n",
              "      <th>146</th>\n",
              "      <td>Rwanda</td>\n",
              "      <td>Sub-Saharan Africa</td>\n",
              "      <td>3.415</td>\n",
              "      <td>0.068</td>\n",
              "      <td>3.548</td>\n",
              "      <td>3.282</td>\n",
              "      <td>7.676</td>\n",
              "      <td>0.552</td>\n",
              "      <td>61.400</td>\n",
              "      <td>0.897</td>\n",
              "      <td>0.061</td>\n",
              "      <td>0.167</td>\n",
              "      <td>2.43</td>\n",
              "      <td>0.364</td>\n",
              "      <td>0.202</td>\n",
              "      <td>0.407</td>\n",
              "      <td>0.627</td>\n",
              "      <td>0.227</td>\n",
              "      <td>0.493</td>\n",
              "      <td>1.095</td>\n",
              "    </tr>\n",
              "    <tr>\n",
              "      <th>147</th>\n",
              "      <td>Zimbabwe</td>\n",
              "      <td>Sub-Saharan Africa</td>\n",
              "      <td>3.145</td>\n",
              "      <td>0.058</td>\n",
              "      <td>3.259</td>\n",
              "      <td>3.030</td>\n",
              "      <td>7.943</td>\n",
              "      <td>0.750</td>\n",
              "      <td>56.201</td>\n",
              "      <td>0.677</td>\n",
              "      <td>-0.047</td>\n",
              "      <td>0.821</td>\n",
              "      <td>2.43</td>\n",
              "      <td>0.457</td>\n",
              "      <td>0.649</td>\n",
              "      <td>0.243</td>\n",
              "      <td>0.359</td>\n",
              "      <td>0.157</td>\n",
              "      <td>0.075</td>\n",
              "      <td>1.205</td>\n",
              "    </tr>\n",
              "    <tr>\n",
              "      <th>148</th>\n",
              "      <td>Afghanistan</td>\n",
              "      <td>South Asia</td>\n",
              "      <td>2.523</td>\n",
              "      <td>0.038</td>\n",
              "      <td>2.596</td>\n",
              "      <td>2.449</td>\n",
              "      <td>7.695</td>\n",
              "      <td>0.463</td>\n",
              "      <td>52.493</td>\n",
              "      <td>0.382</td>\n",
              "      <td>-0.102</td>\n",
              "      <td>0.924</td>\n",
              "      <td>2.43</td>\n",
              "      <td>0.370</td>\n",
              "      <td>0.000</td>\n",
              "      <td>0.126</td>\n",
              "      <td>0.000</td>\n",
              "      <td>0.122</td>\n",
              "      <td>0.010</td>\n",
              "      <td>1.895</td>\n",
              "    </tr>\n",
              "  </tbody>\n",
              "</table>\n",
              "<p>149 rows × 20 columns</p>\n",
              "</div>"
            ],
            "text/plain": [
              "    Country name  ... Dystopia + residual\n",
              "0        Finland  ...               3.253\n",
              "1        Denmark  ...               2.868\n",
              "2    Switzerland  ...               2.839\n",
              "3        Iceland  ...               2.967\n",
              "4    Netherlands  ...               2.798\n",
              "..           ...  ...                 ...\n",
              "144      Lesotho  ...               1.800\n",
              "145     Botswana  ...               0.648\n",
              "146       Rwanda  ...               1.095\n",
              "147     Zimbabwe  ...               1.205\n",
              "148  Afghanistan  ...               1.895\n",
              "\n",
              "[149 rows x 20 columns]"
            ]
          },
          "metadata": {
            "tags": []
          },
          "execution_count": 6
        }
      ]
    },
    {
      "cell_type": "markdown",
      "metadata": {
        "id": "j0ApehO30eTY"
      },
      "source": [
        "###**Tipo de Variables**\n",
        "\n",
        "Contamos con un total de 20 variables, de las cuales dos son de tipo objeto, también llamadas string que corresponden al nombre del país y la región por continente, el resto de las variables son de tipo númerico (float). "
      ]
    },
    {
      "cell_type": "code",
      "metadata": {
        "colab": {
          "base_uri": "https://localhost:8080/"
        },
        "id": "VbNDn5UwFCiK",
        "outputId": "942266b3-2f88-41e4-cabe-962a13894e90"
      },
      "source": [
        "Felicidad_mundial.info()"
      ],
      "execution_count": null,
      "outputs": [
        {
          "output_type": "stream",
          "text": [
            "<class 'pandas.core.frame.DataFrame'>\n",
            "RangeIndex: 149 entries, 0 to 148\n",
            "Data columns (total 20 columns):\n",
            " #   Column                                      Non-Null Count  Dtype  \n",
            "---  ------                                      --------------  -----  \n",
            " 0   Country name                                149 non-null    object \n",
            " 1   Regional indicator                          149 non-null    object \n",
            " 2   Ladder score                                149 non-null    float64\n",
            " 3   Standard error of ladder score              149 non-null    float64\n",
            " 4   upperwhisker                                149 non-null    float64\n",
            " 5   lowerwhisker                                149 non-null    float64\n",
            " 6   Logged GDP per capita                       149 non-null    float64\n",
            " 7   Social support                              149 non-null    float64\n",
            " 8   Healthy life expectancy                     149 non-null    float64\n",
            " 9   Freedom to make life choices                149 non-null    float64\n",
            " 10  Generosity                                  149 non-null    float64\n",
            " 11  Perceptions of corruption                   149 non-null    float64\n",
            " 12  Ladder score in Dystopia                    149 non-null    float64\n",
            " 13  Explained by: Log GDP per capita            149 non-null    float64\n",
            " 14  Explained by: Social support                149 non-null    float64\n",
            " 15  Explained by: Healthy life expectancy       149 non-null    float64\n",
            " 16  Explained by: Freedom to make life choices  149 non-null    float64\n",
            " 17  Explained by: Generosity                    149 non-null    float64\n",
            " 18  Explained by: Perceptions of corruption     149 non-null    float64\n",
            " 19  Dystopia + residual                         149 non-null    float64\n",
            "dtypes: float64(18), object(2)\n",
            "memory usage: 23.4+ KB\n"
          ],
          "name": "stdout"
        }
      ]
    },
    {
      "cell_type": "markdown",
      "metadata": {
        "id": "nLkS1D_p82qP"
      },
      "source": [
        "###**Valores**"
      ]
    },
    {
      "cell_type": "code",
      "metadata": {
        "id": "WSBkUd3R4MsI",
        "colab": {
          "base_uri": "https://localhost:8080/"
        },
        "outputId": "f61de2d4-f236-4a93-d483-16e04020bb15"
      },
      "source": [
        "Felicidad_mundial.values"
      ],
      "execution_count": null,
      "outputs": [
        {
          "output_type": "execute_result",
          "data": {
            "text/plain": [
              "array([['Finland', 'Western Europe', 7.842, ..., 0.124, 0.481, 3.253],\n",
              "       ['Denmark', 'Western Europe', 7.62, ..., 0.208, 0.485, 2.868],\n",
              "       ['Switzerland', 'Western Europe', 7.571, ..., 0.204, 0.413, 2.839],\n",
              "       ...,\n",
              "       ['Rwanda', 'Sub-Saharan Africa', 3.415, ..., 0.227, 0.493, 1.095],\n",
              "       ['Zimbabwe', 'Sub-Saharan Africa', 3.145, ..., 0.157, 0.075,\n",
              "        1.205],\n",
              "       ['Afghanistan', 'South Asia', 2.523, ..., 0.122, 0.01, 1.895]],\n",
              "      dtype=object)"
            ]
          },
          "metadata": {
            "tags": []
          },
          "execution_count": 6
        }
      ]
    },
    {
      "cell_type": "markdown",
      "metadata": {
        "id": "jZC3OYDSJrY_"
      },
      "source": [
        "###**Columnas**\n",
        "Las seis variables estudiadas para calcular el puntaje de felicidad están expresadas en coeficientes, índices o logaritmos. "
      ]
    },
    {
      "cell_type": "code",
      "metadata": {
        "colab": {
          "base_uri": "https://localhost:8080/"
        },
        "id": "JxBToaFl56VQ",
        "outputId": "86591c14-d67b-4975-a6a1-c8837ec5326d"
      },
      "source": [
        "Felicidad_mundial.columns"
      ],
      "execution_count": null,
      "outputs": [
        {
          "output_type": "execute_result",
          "data": {
            "text/plain": [
              "Index(['Country name', 'Regional indicator', 'Ladder score',\n",
              "       'Standard error of ladder score', 'upperwhisker', 'lowerwhisker',\n",
              "       'Logged GDP per capita', 'Social support', 'Healthy life expectancy',\n",
              "       'Freedom to make life choices', 'Generosity',\n",
              "       'Perceptions of corruption', 'Ladder score in Dystopia',\n",
              "       'Explained by: Log GDP per capita', 'Explained by: Social support',\n",
              "       'Explained by: Healthy life expectancy',\n",
              "       'Explained by: Freedom to make life choices',\n",
              "       'Explained by: Generosity', 'Explained by: Perceptions of corruption',\n",
              "       'Dystopia + residual'],\n",
              "      dtype='object')"
            ]
          },
          "metadata": {
            "tags": []
          },
          "execution_count": 7
        }
      ]
    },
    {
      "cell_type": "markdown",
      "metadata": {
        "id": "Ch42LEkG9E5Z"
      },
      "source": [
        "###**Índices**"
      ]
    },
    {
      "cell_type": "code",
      "metadata": {
        "colab": {
          "base_uri": "https://localhost:8080/"
        },
        "id": "boXdqCwp9EtZ",
        "outputId": "08662e03-33be-40ea-9c51-f722330b0e8a"
      },
      "source": [
        "Felicidad_mundial.index"
      ],
      "execution_count": null,
      "outputs": [
        {
          "output_type": "execute_result",
          "data": {
            "text/plain": [
              "RangeIndex(start=0, stop=149, step=1)"
            ]
          },
          "metadata": {
            "tags": []
          },
          "execution_count": 8
        }
      ]
    },
    {
      "cell_type": "markdown",
      "metadata": {
        "id": "qwZNtWXMJx2W"
      },
      "source": [
        "###**Variables descriptivas principales**\n",
        "Aislamos del análisis los coeficientes secundarios \"explained by\" para enfocarnos en los seis factores que el estudio utiliza para determinar el puntaje\n",
        "####*Análisis estadísticas descriptivas*\n",
        "La percepción de felicidad se encuentra para 149 países. En la mayoría de los casos, los máximos de las variables duplican el mínimo, lo que da indicios de una gran brecha de bienestar entre las naciones. El puntaje máximo del índice de felicidad es de 7.842 para Finlandia, y el mínimo con 2.523 para Afghanistan. \n",
        "\n",
        "De manera general, las diferencias en la percepción de corrupción son muy marcadas, con un mínimo de 0.082, y un máximo de 0.939. Lo mismo sucede con la expectativa de vida, donde existe un mínimo de aproximadamente 48 años, el cuál podría reflejar deficiencias en salubridad, seguridad y en general, en condiciones de calidad de vida, y, por el contrario, un máximo de 76 años, aproximadamente. \n",
        "\n"
      ]
    },
    {
      "cell_type": "code",
      "metadata": {
        "colab": {
          "base_uri": "https://localhost:8080/",
          "height": 297
        },
        "id": "JRzE-Dgn48QB",
        "outputId": "849966f9-b0e0-4d74-b2c1-e779109d42ce"
      },
      "source": [
        "Felicidad_mundial[['Ladder score','Logged GDP per capita','Social support','Healthy life expectancy','Freedom to make life choices','Generosity','Perceptions of corruption']].describe()\n"
      ],
      "execution_count": null,
      "outputs": [
        {
          "output_type": "execute_result",
          "data": {
            "text/html": [
              "<div>\n",
              "<style scoped>\n",
              "    .dataframe tbody tr th:only-of-type {\n",
              "        vertical-align: middle;\n",
              "    }\n",
              "\n",
              "    .dataframe tbody tr th {\n",
              "        vertical-align: top;\n",
              "    }\n",
              "\n",
              "    .dataframe thead th {\n",
              "        text-align: right;\n",
              "    }\n",
              "</style>\n",
              "<table border=\"1\" class=\"dataframe\">\n",
              "  <thead>\n",
              "    <tr style=\"text-align: right;\">\n",
              "      <th></th>\n",
              "      <th>Ladder score</th>\n",
              "      <th>Logged GDP per capita</th>\n",
              "      <th>Social support</th>\n",
              "      <th>Healthy life expectancy</th>\n",
              "      <th>Freedom to make life choices</th>\n",
              "      <th>Generosity</th>\n",
              "      <th>Perceptions of corruption</th>\n",
              "    </tr>\n",
              "  </thead>\n",
              "  <tbody>\n",
              "    <tr>\n",
              "      <th>count</th>\n",
              "      <td>149.000000</td>\n",
              "      <td>149.000000</td>\n",
              "      <td>149.000000</td>\n",
              "      <td>149.000000</td>\n",
              "      <td>149.000000</td>\n",
              "      <td>149.000000</td>\n",
              "      <td>149.000000</td>\n",
              "    </tr>\n",
              "    <tr>\n",
              "      <th>mean</th>\n",
              "      <td>5.532839</td>\n",
              "      <td>9.432208</td>\n",
              "      <td>0.814745</td>\n",
              "      <td>64.992799</td>\n",
              "      <td>0.791597</td>\n",
              "      <td>-0.015134</td>\n",
              "      <td>0.727450</td>\n",
              "    </tr>\n",
              "    <tr>\n",
              "      <th>std</th>\n",
              "      <td>1.073924</td>\n",
              "      <td>1.158601</td>\n",
              "      <td>0.114889</td>\n",
              "      <td>6.762043</td>\n",
              "      <td>0.113332</td>\n",
              "      <td>0.150657</td>\n",
              "      <td>0.179226</td>\n",
              "    </tr>\n",
              "    <tr>\n",
              "      <th>min</th>\n",
              "      <td>2.523000</td>\n",
              "      <td>6.635000</td>\n",
              "      <td>0.463000</td>\n",
              "      <td>48.478000</td>\n",
              "      <td>0.382000</td>\n",
              "      <td>-0.288000</td>\n",
              "      <td>0.082000</td>\n",
              "    </tr>\n",
              "    <tr>\n",
              "      <th>25%</th>\n",
              "      <td>4.852000</td>\n",
              "      <td>8.541000</td>\n",
              "      <td>0.750000</td>\n",
              "      <td>59.802000</td>\n",
              "      <td>0.718000</td>\n",
              "      <td>-0.126000</td>\n",
              "      <td>0.667000</td>\n",
              "    </tr>\n",
              "    <tr>\n",
              "      <th>50%</th>\n",
              "      <td>5.534000</td>\n",
              "      <td>9.569000</td>\n",
              "      <td>0.832000</td>\n",
              "      <td>66.603000</td>\n",
              "      <td>0.804000</td>\n",
              "      <td>-0.036000</td>\n",
              "      <td>0.781000</td>\n",
              "    </tr>\n",
              "    <tr>\n",
              "      <th>75%</th>\n",
              "      <td>6.255000</td>\n",
              "      <td>10.421000</td>\n",
              "      <td>0.905000</td>\n",
              "      <td>69.600000</td>\n",
              "      <td>0.877000</td>\n",
              "      <td>0.079000</td>\n",
              "      <td>0.845000</td>\n",
              "    </tr>\n",
              "    <tr>\n",
              "      <th>max</th>\n",
              "      <td>7.842000</td>\n",
              "      <td>11.647000</td>\n",
              "      <td>0.983000</td>\n",
              "      <td>76.953000</td>\n",
              "      <td>0.970000</td>\n",
              "      <td>0.542000</td>\n",
              "      <td>0.939000</td>\n",
              "    </tr>\n",
              "  </tbody>\n",
              "</table>\n",
              "</div>"
            ],
            "text/plain": [
              "       Ladder score  ...  Perceptions of corruption\n",
              "count    149.000000  ...                 149.000000\n",
              "mean       5.532839  ...                   0.727450\n",
              "std        1.073924  ...                   0.179226\n",
              "min        2.523000  ...                   0.082000\n",
              "25%        4.852000  ...                   0.667000\n",
              "50%        5.534000  ...                   0.781000\n",
              "75%        6.255000  ...                   0.845000\n",
              "max        7.842000  ...                   0.939000\n",
              "\n",
              "[8 rows x 7 columns]"
            ]
          },
          "metadata": {
            "tags": []
          },
          "execution_count": 9
        }
      ]
    },
    {
      "cell_type": "markdown",
      "metadata": {
        "id": "VwnKAeDKLg-q"
      },
      "source": [
        "###**Ladder Score**\n",
        "\n",
        "\n",
        "*Puntaje promedio ponderado de felicidad que contempla los siguientes seis factores (producción económica, apoyo social, esperanza de vida, libertad, ausencia de corrupción y generosidad)*\n",
        "\n",
        "*Adicionalmente, está medida en una escala que va de 0 a 10 que se rastrea a lo largo del tiempo y se compara con otros países*"
      ]
    },
    {
      "cell_type": "markdown",
      "metadata": {
        "id": "ymyNkdFPjesI"
      },
      "source": [
        "**Países involucrados**"
      ]
    },
    {
      "cell_type": "markdown",
      "metadata": {
        "id": "S7_5ub6DFoLc"
      },
      "source": [
        "La región que tiene mayor representación con respecto a número de países es África Subsahariana, y la de menor es la compuesta por America del Norte, Australia y Nueva Zelanda. "
      ]
    },
    {
      "cell_type": "code",
      "metadata": {
        "colab": {
          "base_uri": "https://localhost:8080/"
        },
        "id": "417xNqvgFBlj",
        "outputId": "e96fd846-01f1-4916-f70a-851643f7cf36"
      },
      "source": [
        "Paises_por_continente = Felicidad_mundial[\"Regional indicator\"].value_counts()\n",
        "Paises_por_continente"
      ],
      "execution_count": null,
      "outputs": [
        {
          "output_type": "execute_result",
          "data": {
            "text/plain": [
              "Sub-Saharan Africa                    36\n",
              "Western Europe                        21\n",
              "Latin America and Caribbean           20\n",
              "Central and Eastern Europe            17\n",
              "Middle East and North Africa          17\n",
              "Commonwealth of Independent States    12\n",
              "Southeast Asia                         9\n",
              "South Asia                             7\n",
              "East Asia                              6\n",
              "North America and ANZ                  4\n",
              "Name: Regional indicator, dtype: int64"
            ]
          },
          "metadata": {
            "tags": []
          },
          "execution_count": 10
        }
      ]
    },
    {
      "cell_type": "code",
      "metadata": {
        "colab": {
          "base_uri": "https://localhost:8080/",
          "height": 463
        },
        "id": "HK35v8SKkk1s",
        "outputId": "8bc10412-ef93-47e5-8d92-bcfc157f5135"
      },
      "source": [
        "fig, ax =plt.subplots()\n",
        "ax.bar(Paises_por_continente.index, Paises_por_continente.values,\n",
        "       color = \"slateblue\")\n",
        "plt.xticks(rotation = 90)\n",
        "ax.set_title(\"Número de países por región\")\n",
        "plt.show()\n"
      ],
      "execution_count": null,
      "outputs": [
        {
          "output_type": "display_data",
          "data": {
            "image/png": "[encoded data removed]",
            "text/plain": [
              "<Figure size 432x288 with 1 Axes>"
            ]
          },
          "metadata": {
            "tags": [],
            "needs_background": "light"
          }
        }
      ]
    },
    {
      "cell_type": "markdown",
      "metadata": {
        "id": "RkGXjv3bjlzY"
      },
      "source": [
        "**Estadisticas descriptivas**"
      ]
    },
    {
      "cell_type": "code",
      "metadata": {
        "id": "UPAwvw7bMZbG"
      },
      "source": [
        "import numpy as np"
      ],
      "execution_count": null,
      "outputs": []
    },
    {
      "cell_type": "code",
      "metadata": {
        "colab": {
          "base_uri": "https://localhost:8080/",
          "height": 173
        },
        "id": "YEKjCB0SLguL",
        "outputId": "a03a926d-8874-4254-a867-0802832ae35b"
      },
      "source": [
        "Felicidad_mundial[[\"Ladder score\"]].agg([min, max, np.mean, np.median])"
      ],
      "execution_count": null,
      "outputs": [
        {
          "output_type": "execute_result",
          "data": {
            "text/html": [
              "<div>\n",
              "<style scoped>\n",
              "    .dataframe tbody tr th:only-of-type {\n",
              "        vertical-align: middle;\n",
              "    }\n",
              "\n",
              "    .dataframe tbody tr th {\n",
              "        vertical-align: top;\n",
              "    }\n",
              "\n",
              "    .dataframe thead th {\n",
              "        text-align: right;\n",
              "    }\n",
              "</style>\n",
              "<table border=\"1\" class=\"dataframe\">\n",
              "  <thead>\n",
              "    <tr style=\"text-align: right;\">\n",
              "      <th></th>\n",
              "      <th>Ladder score</th>\n",
              "    </tr>\n",
              "  </thead>\n",
              "  <tbody>\n",
              "    <tr>\n",
              "      <th>min</th>\n",
              "      <td>2.523000</td>\n",
              "    </tr>\n",
              "    <tr>\n",
              "      <th>max</th>\n",
              "      <td>7.842000</td>\n",
              "    </tr>\n",
              "    <tr>\n",
              "      <th>mean</th>\n",
              "      <td>5.532839</td>\n",
              "    </tr>\n",
              "    <tr>\n",
              "      <th>median</th>\n",
              "      <td>5.534000</td>\n",
              "    </tr>\n",
              "  </tbody>\n",
              "</table>\n",
              "</div>"
            ],
            "text/plain": [
              "        Ladder score\n",
              "min         2.523000\n",
              "max         7.842000\n",
              "mean        5.532839\n",
              "median      5.534000"
            ]
          },
          "metadata": {
            "tags": []
          },
          "execution_count": 12
        }
      ]
    },
    {
      "cell_type": "markdown",
      "metadata": {
        "id": "a-uXj9SF2_Fx"
      },
      "source": [
        "Para el Ladder score, el mínimo corresponde a 2.523 (Afganistán), el máximo a 7.842 (Finlandia), una media de 5.532839 en el análisis de los 149 países, y una mediana de 5.534."
      ]
    },
    {
      "cell_type": "markdown",
      "metadata": {
        "id": "k6SLZzVoLftN"
      },
      "source": [
        "**Distribución**"
      ]
    },
    {
      "cell_type": "code",
      "metadata": {
        "colab": {
          "base_uri": "https://localhost:8080/",
          "height": 281
        },
        "id": "eAbWMbdV4YVc",
        "outputId": "8c5d1f04-de36-42a5-dd88-54dd38f1ec9f"
      },
      "source": [
        "fig, ax = plt.subplots()\n",
        "ax.boxplot(Felicidad_mundial[\"Ladder score\"])\n",
        "ax.set_title(\"BoxPlot Ladder Score\")\n",
        "plt.show()"
      ],
      "execution_count": null,
      "outputs": [
        {
          "output_type": "display_data",
          "data": {
            "image/png": "[encoded data removed]",
            "text/plain": [
              "<Figure size 432x288 with 1 Axes>"
            ]
          },
          "metadata": {
            "tags": [],
            "needs_background": "light"
          }
        }
      ]
    },
    {
      "cell_type": "markdown",
      "metadata": {
        "id": "CRpmrAiI9NfW"
      },
      "source": [
        "La distribución del puntaje de felicidad evidencia un comportamiento normal, dado que la mediana esta en una posición central y, de igual forma, el rango intercuartil presenta un comportamiento normal. Por último, se evidencian muy pocos datos atípicos. "
      ]
    },
    {
      "cell_type": "markdown",
      "metadata": {
        "id": "-B8HKLePjqg4"
      },
      "source": [
        "**Ranking países**"
      ]
    },
    {
      "cell_type": "markdown",
      "metadata": {
        "id": "SYHauS1lJTFo"
      },
      "source": [
        "###Las cinco primeras variables de la BD organizadas por Ladder score corresponden a países de Europa Occidental:\n",
        "El ranking con los países con mayor percepción de felicidad cuenta con Finlandia que por cuarta vez consecutiva se posiciona en el primer lugar por contar con un nivel de vida alto, uno de los países con el mejor balance contra el covid e indices muy positivos en materia de solidaridad, lucha contra la pobreza y desigualdad, seguido por Dinamarca y Suiza en segundo y tercer lugar.\n"
      ]
    },
    {
      "cell_type": "code",
      "metadata": {
        "colab": {
          "base_uri": "https://localhost:8080/",
          "height": 394
        },
        "id": "EP0qcuGG1koQ",
        "outputId": "09d2f36e-63be-45aa-89a8-426ed9fcd674"
      },
      "source": [
        "Felicidad_mundial.head()"
      ],
      "execution_count": null,
      "outputs": [
        {
          "output_type": "execute_result",
          "data": {
            "text/html": [
              "<div>\n",
              "<style scoped>\n",
              "    .dataframe tbody tr th:only-of-type {\n",
              "        vertical-align: middle;\n",
              "    }\n",
              "\n",
              "    .dataframe tbody tr th {\n",
              "        vertical-align: top;\n",
              "    }\n",
              "\n",
              "    .dataframe thead th {\n",
              "        text-align: right;\n",
              "    }\n",
              "</style>\n",
              "<table border=\"1\" class=\"dataframe\">\n",
              "  <thead>\n",
              "    <tr style=\"text-align: right;\">\n",
              "      <th></th>\n",
              "      <th>Country name</th>\n",
              "      <th>Regional indicator</th>\n",
              "      <th>Ladder score</th>\n",
              "      <th>Standard error of ladder score</th>\n",
              "      <th>upperwhisker</th>\n",
              "      <th>lowerwhisker</th>\n",
              "      <th>Logged GDP per capita</th>\n",
              "      <th>Social support</th>\n",
              "      <th>Healthy life expectancy</th>\n",
              "      <th>Freedom to make life choices</th>\n",
              "      <th>Generosity</th>\n",
              "      <th>Perceptions of corruption</th>\n",
              "      <th>Ladder score in Dystopia</th>\n",
              "      <th>Explained by: Log GDP per capita</th>\n",
              "      <th>Explained by: Social support</th>\n",
              "      <th>Explained by: Healthy life expectancy</th>\n",
              "      <th>Explained by: Freedom to make life choices</th>\n",
              "      <th>Explained by: Generosity</th>\n",
              "      <th>Explained by: Perceptions of corruption</th>\n",
              "      <th>Dystopia + residual</th>\n",
              "    </tr>\n",
              "  </thead>\n",
              "  <tbody>\n",
              "    <tr>\n",
              "      <th>0</th>\n",
              "      <td>Finland</td>\n",
              "      <td>Western Europe</td>\n",
              "      <td>7.842</td>\n",
              "      <td>0.032</td>\n",
              "      <td>7.904</td>\n",
              "      <td>7.780</td>\n",
              "      <td>10.775</td>\n",
              "      <td>0.954</td>\n",
              "      <td>72.0</td>\n",
              "      <td>0.949</td>\n",
              "      <td>-0.098</td>\n",
              "      <td>0.186</td>\n",
              "      <td>2.43</td>\n",
              "      <td>1.446</td>\n",
              "      <td>1.106</td>\n",
              "      <td>0.741</td>\n",
              "      <td>0.691</td>\n",
              "      <td>0.124</td>\n",
              "      <td>0.481</td>\n",
              "      <td>3.253</td>\n",
              "    </tr>\n",
              "    <tr>\n",
              "      <th>1</th>\n",
              "      <td>Denmark</td>\n",
              "      <td>Western Europe</td>\n",
              "      <td>7.620</td>\n",
              "      <td>0.035</td>\n",
              "      <td>7.687</td>\n",
              "      <td>7.552</td>\n",
              "      <td>10.933</td>\n",
              "      <td>0.954</td>\n",
              "      <td>72.7</td>\n",
              "      <td>0.946</td>\n",
              "      <td>0.030</td>\n",
              "      <td>0.179</td>\n",
              "      <td>2.43</td>\n",
              "      <td>1.502</td>\n",
              "      <td>1.108</td>\n",
              "      <td>0.763</td>\n",
              "      <td>0.686</td>\n",
              "      <td>0.208</td>\n",
              "      <td>0.485</td>\n",
              "      <td>2.868</td>\n",
              "    </tr>\n",
              "    <tr>\n",
              "      <th>2</th>\n",
              "      <td>Switzerland</td>\n",
              "      <td>Western Europe</td>\n",
              "      <td>7.571</td>\n",
              "      <td>0.036</td>\n",
              "      <td>7.643</td>\n",
              "      <td>7.500</td>\n",
              "      <td>11.117</td>\n",
              "      <td>0.942</td>\n",
              "      <td>74.4</td>\n",
              "      <td>0.919</td>\n",
              "      <td>0.025</td>\n",
              "      <td>0.292</td>\n",
              "      <td>2.43</td>\n",
              "      <td>1.566</td>\n",
              "      <td>1.079</td>\n",
              "      <td>0.816</td>\n",
              "      <td>0.653</td>\n",
              "      <td>0.204</td>\n",
              "      <td>0.413</td>\n",
              "      <td>2.839</td>\n",
              "    </tr>\n",
              "    <tr>\n",
              "      <th>3</th>\n",
              "      <td>Iceland</td>\n",
              "      <td>Western Europe</td>\n",
              "      <td>7.554</td>\n",
              "      <td>0.059</td>\n",
              "      <td>7.670</td>\n",
              "      <td>7.438</td>\n",
              "      <td>10.878</td>\n",
              "      <td>0.983</td>\n",
              "      <td>73.0</td>\n",
              "      <td>0.955</td>\n",
              "      <td>0.160</td>\n",
              "      <td>0.673</td>\n",
              "      <td>2.43</td>\n",
              "      <td>1.482</td>\n",
              "      <td>1.172</td>\n",
              "      <td>0.772</td>\n",
              "      <td>0.698</td>\n",
              "      <td>0.293</td>\n",
              "      <td>0.170</td>\n",
              "      <td>2.967</td>\n",
              "    </tr>\n",
              "    <tr>\n",
              "      <th>4</th>\n",
              "      <td>Netherlands</td>\n",
              "      <td>Western Europe</td>\n",
              "      <td>7.464</td>\n",
              "      <td>0.027</td>\n",
              "      <td>7.518</td>\n",
              "      <td>7.410</td>\n",
              "      <td>10.932</td>\n",
              "      <td>0.942</td>\n",
              "      <td>72.4</td>\n",
              "      <td>0.913</td>\n",
              "      <td>0.175</td>\n",
              "      <td>0.338</td>\n",
              "      <td>2.43</td>\n",
              "      <td>1.501</td>\n",
              "      <td>1.079</td>\n",
              "      <td>0.753</td>\n",
              "      <td>0.647</td>\n",
              "      <td>0.302</td>\n",
              "      <td>0.384</td>\n",
              "      <td>2.798</td>\n",
              "    </tr>\n",
              "  </tbody>\n",
              "</table>\n",
              "</div>"
            ],
            "text/plain": [
              "  Country name  ... Dystopia + residual\n",
              "0      Finland  ...               3.253\n",
              "1      Denmark  ...               2.868\n",
              "2  Switzerland  ...               2.839\n",
              "3      Iceland  ...               2.967\n",
              "4  Netherlands  ...               2.798\n",
              "\n",
              "[5 rows x 20 columns]"
            ]
          },
          "metadata": {
            "tags": []
          },
          "execution_count": 13
        }
      ]
    },
    {
      "cell_type": "markdown",
      "metadata": {
        "id": "IPyWNiT-JkaX"
      },
      "source": [
        "####Cuatro de los cinco países con menor puntaje de felicidad pertenecen a la región de África Subsahariana:\n",
        "En el último lugar encontramos a Afghanistán que se ha caracterizado por varias décadas por frecuentar guerrar y conflictos dentro de su Nación."
      ]
    },
    {
      "cell_type": "code",
      "metadata": {
        "colab": {
          "base_uri": "https://localhost:8080/",
          "height": 445
        },
        "id": "47WF2Km_4Y04",
        "outputId": "57ff3db3-d431-4ee6-91e3-d158b617a46a"
      },
      "source": [
        "Felicidad_mundial.tail()"
      ],
      "execution_count": null,
      "outputs": [
        {
          "output_type": "execute_result",
          "data": {
            "text/html": [
              "<div>\n",
              "<style scoped>\n",
              "    .dataframe tbody tr th:only-of-type {\n",
              "        vertical-align: middle;\n",
              "    }\n",
              "\n",
              "    .dataframe tbody tr th {\n",
              "        vertical-align: top;\n",
              "    }\n",
              "\n",
              "    .dataframe thead th {\n",
              "        text-align: right;\n",
              "    }\n",
              "</style>\n",
              "<table border=\"1\" class=\"dataframe\">\n",
              "  <thead>\n",
              "    <tr style=\"text-align: right;\">\n",
              "      <th></th>\n",
              "      <th>Country name</th>\n",
              "      <th>Regional indicator</th>\n",
              "      <th>Ladder score</th>\n",
              "      <th>Standard error of ladder score</th>\n",
              "      <th>upperwhisker</th>\n",
              "      <th>lowerwhisker</th>\n",
              "      <th>Logged GDP per capita</th>\n",
              "      <th>Social support</th>\n",
              "      <th>Healthy life expectancy</th>\n",
              "      <th>Freedom to make life choices</th>\n",
              "      <th>Generosity</th>\n",
              "      <th>Perceptions of corruption</th>\n",
              "      <th>Ladder score in Dystopia</th>\n",
              "      <th>Explained by: Log GDP per capita</th>\n",
              "      <th>Explained by: Social support</th>\n",
              "      <th>Explained by: Healthy life expectancy</th>\n",
              "      <th>Explained by: Freedom to make life choices</th>\n",
              "      <th>Explained by: Generosity</th>\n",
              "      <th>Explained by: Perceptions of corruption</th>\n",
              "      <th>Dystopia + residual</th>\n",
              "    </tr>\n",
              "  </thead>\n",
              "  <tbody>\n",
              "    <tr>\n",
              "      <th>144</th>\n",
              "      <td>Lesotho</td>\n",
              "      <td>Sub-Saharan Africa</td>\n",
              "      <td>3.512</td>\n",
              "      <td>0.120</td>\n",
              "      <td>3.748</td>\n",
              "      <td>3.276</td>\n",
              "      <td>7.926</td>\n",
              "      <td>0.787</td>\n",
              "      <td>48.700</td>\n",
              "      <td>0.715</td>\n",
              "      <td>-0.131</td>\n",
              "      <td>0.915</td>\n",
              "      <td>2.43</td>\n",
              "      <td>0.451</td>\n",
              "      <td>0.731</td>\n",
              "      <td>0.007</td>\n",
              "      <td>0.405</td>\n",
              "      <td>0.103</td>\n",
              "      <td>0.015</td>\n",
              "      <td>1.800</td>\n",
              "    </tr>\n",
              "    <tr>\n",
              "      <th>145</th>\n",
              "      <td>Botswana</td>\n",
              "      <td>Sub-Saharan Africa</td>\n",
              "      <td>3.467</td>\n",
              "      <td>0.074</td>\n",
              "      <td>3.611</td>\n",
              "      <td>3.322</td>\n",
              "      <td>9.782</td>\n",
              "      <td>0.784</td>\n",
              "      <td>59.269</td>\n",
              "      <td>0.824</td>\n",
              "      <td>-0.246</td>\n",
              "      <td>0.801</td>\n",
              "      <td>2.43</td>\n",
              "      <td>1.099</td>\n",
              "      <td>0.724</td>\n",
              "      <td>0.340</td>\n",
              "      <td>0.539</td>\n",
              "      <td>0.027</td>\n",
              "      <td>0.088</td>\n",
              "      <td>0.648</td>\n",
              "    </tr>\n",
              "    <tr>\n",
              "      <th>146</th>\n",
              "      <td>Rwanda</td>\n",
              "      <td>Sub-Saharan Africa</td>\n",
              "      <td>3.415</td>\n",
              "      <td>0.068</td>\n",
              "      <td>3.548</td>\n",
              "      <td>3.282</td>\n",
              "      <td>7.676</td>\n",
              "      <td>0.552</td>\n",
              "      <td>61.400</td>\n",
              "      <td>0.897</td>\n",
              "      <td>0.061</td>\n",
              "      <td>0.167</td>\n",
              "      <td>2.43</td>\n",
              "      <td>0.364</td>\n",
              "      <td>0.202</td>\n",
              "      <td>0.407</td>\n",
              "      <td>0.627</td>\n",
              "      <td>0.227</td>\n",
              "      <td>0.493</td>\n",
              "      <td>1.095</td>\n",
              "    </tr>\n",
              "    <tr>\n",
              "      <th>147</th>\n",
              "      <td>Zimbabwe</td>\n",
              "      <td>Sub-Saharan Africa</td>\n",
              "      <td>3.145</td>\n",
              "      <td>0.058</td>\n",
              "      <td>3.259</td>\n",
              "      <td>3.030</td>\n",
              "      <td>7.943</td>\n",
              "      <td>0.750</td>\n",
              "      <td>56.201</td>\n",
              "      <td>0.677</td>\n",
              "      <td>-0.047</td>\n",
              "      <td>0.821</td>\n",
              "      <td>2.43</td>\n",
              "      <td>0.457</td>\n",
              "      <td>0.649</td>\n",
              "      <td>0.243</td>\n",
              "      <td>0.359</td>\n",
              "      <td>0.157</td>\n",
              "      <td>0.075</td>\n",
              "      <td>1.205</td>\n",
              "    </tr>\n",
              "    <tr>\n",
              "      <th>148</th>\n",
              "      <td>Afghanistan</td>\n",
              "      <td>South Asia</td>\n",
              "      <td>2.523</td>\n",
              "      <td>0.038</td>\n",
              "      <td>2.596</td>\n",
              "      <td>2.449</td>\n",
              "      <td>7.695</td>\n",
              "      <td>0.463</td>\n",
              "      <td>52.493</td>\n",
              "      <td>0.382</td>\n",
              "      <td>-0.102</td>\n",
              "      <td>0.924</td>\n",
              "      <td>2.43</td>\n",
              "      <td>0.370</td>\n",
              "      <td>0.000</td>\n",
              "      <td>0.126</td>\n",
              "      <td>0.000</td>\n",
              "      <td>0.122</td>\n",
              "      <td>0.010</td>\n",
              "      <td>1.895</td>\n",
              "    </tr>\n",
              "  </tbody>\n",
              "</table>\n",
              "</div>"
            ],
            "text/plain": [
              "    Country name  ... Dystopia + residual\n",
              "144      Lesotho  ...               1.800\n",
              "145     Botswana  ...               0.648\n",
              "146       Rwanda  ...               1.095\n",
              "147     Zimbabwe  ...               1.205\n",
              "148  Afghanistan  ...               1.895\n",
              "\n",
              "[5 rows x 20 columns]"
            ]
          },
          "metadata": {
            "tags": []
          },
          "execution_count": 14
        }
      ]
    },
    {
      "cell_type": "markdown",
      "metadata": {
        "id": "e8dlvwqikED4"
      },
      "source": [
        "**Por Región - Continente**"
      ]
    },
    {
      "cell_type": "markdown",
      "metadata": {
        "id": "TLw25wxJpbkW"
      },
      "source": [
        "Para cada región del continente encontramos a un país destacando su indicador de felicidad: para el caso de Europa Central y del Este está Republica Checa  "
      ]
    },
    {
      "cell_type": "code",
      "metadata": {
        "colab": {
          "base_uri": "https://localhost:8080/"
        },
        "id": "ibTXyWN4Mu89",
        "outputId": "a118cef8-503d-47e6-92b2-029650121b41"
      },
      "source": [
        "Felicidad_mundial.groupby(\"Regional indicator\")[\"Ladder score\"].max()"
      ],
      "execution_count": null,
      "outputs": [
        {
          "output_type": "execute_result",
          "data": {
            "text/plain": [
              "Regional indicator\n",
              "Central and Eastern Europe            6.965\n",
              "Commonwealth of Independent States    6.179\n",
              "East Asia                             6.584\n",
              "Latin America and Caribbean           7.069\n",
              "Middle East and North Africa          7.157\n",
              "North America and ANZ                 7.277\n",
              "South Asia                            5.269\n",
              "Southeast Asia                        6.377\n",
              "Sub-Saharan Africa                    6.049\n",
              "Western Europe                        7.842\n",
              "Name: Ladder score, dtype: float64"
            ]
          },
          "metadata": {
            "tags": []
          },
          "execution_count": 15
        }
      ]
    },
    {
      "cell_type": "code",
      "metadata": {
        "colab": {
          "base_uri": "https://localhost:8080/",
          "height": 636
        },
        "id": "eIZCxt08H3WX",
        "outputId": "05301fde-9cb0-45be-f3dc-5abade09e6a1"
      },
      "source": [
        "sns.catplot(\"Regional indicator\", \"Ladder score\", data = Felicidad_mundial, kind = \"box\")\n",
        "plt.xticks(rotation = 90)\n",
        "plt.plot()"
      ],
      "execution_count": null,
      "outputs": [
        {
          "output_type": "stream",
          "text": [
            "/usr/local/lib/python3.7/dist-packages/seaborn/_decorators.py:43: FutureWarning: Pass the following variables as keyword args: x, y. From version 0.12, the only valid positional argument will be `data`, and passing other arguments without an explicit keyword will result in an error or misinterpretation.\n",
            "  FutureWarning\n"
          ],
          "name": "stderr"
        },
        {
          "output_type": "execute_result",
          "data": {
            "text/plain": [
              "[]"
            ]
          },
          "metadata": {
            "tags": []
          },
          "execution_count": 38
        },
        {
          "output_type": "display_data",
          "data": {
            "image/png": "[encoded data removed]",
            "text/plain": [
              "<Figure size 360x360 with 1 Axes>"
            ]
          },
          "metadata": {
            "tags": [],
            "needs_background": "light"
          }
        }
      ]
    },
    {
      "cell_type": "markdown",
      "metadata": {
        "id": "Nk8RPT0TKNRY"
      },
      "source": [
        "Se puede evidenciar un comportamiento sumamente variable en las distribuciones del puntaje de felicidad a lo largo de las regiones estudiadas. Europa occidental y la región comprendida por Norteamérica, Australia y Nueva Zelanda, cuentan con una mediana del puntaje más elevada con respecto a las demás regiones. En las regiones de Latinoamérica y Europa Central y del Este se encuentran varios datos atípicos. "
      ]
    },
    {
      "cell_type": "code",
      "metadata": {
        "colab": {
          "base_uri": "https://localhost:8080/",
          "height": 294
        },
        "id": "41htS1E4cPm7",
        "outputId": "914650a7-543a-4583-931c-59dec8c416b7"
      },
      "source": [
        "fig, ax = plt.subplots(3,2, sharex = True, sharey = False)\n",
        "ax[0, 0].scatter(Felicidad_mundial[\"Ladder score\"], Felicidad_mundial[\"Logged GDP per capita\"],\n",
        "                 alpha = 0.5)\n",
        "ax[0, 1].scatter(Felicidad_mundial[\"Ladder score\"], Felicidad_mundial[\"Social support\"],\n",
        "                 alpha = 0.5)\n",
        "ax[1, 0].scatter(Felicidad_mundial[\"Ladder score\"], Felicidad_mundial[\"Healthy life expectancy\"],\n",
        "                 color = \"maroon\",alpha = 0.5)\n",
        "ax[1, 1].scatter(Felicidad_mundial[\"Ladder score\"], Felicidad_mundial[\"Freedom to make life choices\"],\n",
        "                 color = \"maroon\",alpha = 0.5)\n",
        "ax[2, 0].scatter(Felicidad_mundial[\"Ladder score\"], Felicidad_mundial[\"Generosity\"],\n",
        "                 color = \"mediumseagreen\",alpha = 0.5)\n",
        "ax[2, 1].scatter(Felicidad_mundial[\"Ladder score\"], Felicidad_mundial[\"Perceptions of corruption\"],\n",
        "                 color = \"mediumseagreen\",alpha = 0.5)\n",
        "fig. suptitle(\"Ladder score vs. Variables Explicativas\")\n",
        "\n",
        "plt.show()"
      ],
      "execution_count": null,
      "outputs": [
        {
          "output_type": "display_data",
          "data": {
            "image/png": "[encoded data removed]",
            "text/plain": [
              "<Figure size 432x288 with 6 Axes>"
            ]
          },
          "metadata": {
            "tags": [],
            "needs_background": "light"
          }
        }
      ]
    },
    {
      "cell_type": "markdown",
      "metadata": {
        "id": "OASgQc3dhqZc"
      },
      "source": [
        "Para las variables Var. del PIB per capita, apoyo social, esperanza de vida saludable y libertad para tomar decisiones se denota una relación positiva con el incremento de felicidad. Esto quiere decir que ante un incremento de estas cuatro variables, se podrán evidenciar en mayor medida mejoras en el bienestar de los ciudadanos. Respecto a la Generosidad, no se aprecia un comportamiento con tendencia marcada por la dispersión propia de los datos. Finalmente, para el caso de la Corrupción, se evidencia una relación inversa contra el incremento de felicidad en los países. \n",
        "\n",
        "\n",
        "\n"
      ]
    },
    {
      "cell_type": "code",
      "metadata": {
        "colab": {
          "base_uri": "https://localhost:8080/",
          "height": 294
        },
        "id": "IKhvpqZQgRVZ",
        "outputId": "cf8a4fa0-5682-4c79-b531-58e283bd125c"
      },
      "source": [
        "fig, ax = plt.subplots(3,2, sharex = True, sharey = True)\n",
        "ax[0, 0].scatter(Felicidad_mundial[\"Ladder score\"], Felicidad_mundial[\"Explained by: Log GDP per capita\"],\n",
        "                 alpha = 0.5)\n",
        "ax[0, 1].scatter(Felicidad_mundial[\"Ladder score\"], Felicidad_mundial[\"Explained by: Social support\"],\n",
        "                 alpha = 0.5)\n",
        "ax[1, 0].scatter(Felicidad_mundial[\"Ladder score\"], Felicidad_mundial[\"Explained by: Healthy life expectancy\"],\n",
        "                 color = \"maroon\",alpha = 0.5)\n",
        "ax[1, 1].scatter(Felicidad_mundial[\"Ladder score\"], Felicidad_mundial[\"Explained by: Freedom to make life choices\"],\n",
        "                 color = \"maroon\",alpha = 0.5)\n",
        "ax[2, 0].scatter(Felicidad_mundial[\"Ladder score\"], Felicidad_mundial[\"Explained by: Generosity\"],\n",
        "                 color = \"mediumseagreen\",alpha = 0.5)\n",
        "ax[2, 1].scatter(Felicidad_mundial[\"Ladder score\"], Felicidad_mundial[\"Explained by: Perceptions of corruption\"],\n",
        "                 color = \"mediumseagreen\",alpha = 0.5)\n",
        "fig. suptitle(\"Ladder score vs. Coeficientes Variables Explicativas\")\n",
        "plt.show()"
      ],
      "execution_count": null,
      "outputs": [
        {
          "output_type": "display_data",
          "data": {
            "image/png": "[encoded data removed]",
            "text/plain": [
              "<Figure size 432x288 with 6 Axes>"
            ]
          },
          "metadata": {
            "tags": [],
            "needs_background": "light"
          }
        }
      ]
    },
    {
      "cell_type": "markdown",
      "metadata": {
        "id": "c1s5VDAqhrrQ"
      },
      "source": [
        "En este grupo de subplots se evidencian tres comportamientos diferentes: para los coeficientes de las variables Var. del PIB per capita y apoyo social, se denota una relación positiva marcada, para los coeficientes de esperanza de vida saludable y libertad para tomar decisiones se denota una relación positiva pero con un comportamiento leve. Por último, para el coeficiente de Generosidad y percepción de corrupción se visualiza un comportamiento lineal sin ninguna tendencia marcada.\n",
        "\n"
      ]
    },
    {
      "cell_type": "markdown",
      "metadata": {
        "id": "f0ojw6RTZcgn"
      },
      "source": [
        "###**Análisis de Colombia**"
      ]
    },
    {
      "cell_type": "code",
      "metadata": {
        "colab": {
          "base_uri": "https://localhost:8080/",
          "height": 793
        },
        "id": "VXxOYkAORmMm",
        "outputId": "0f039610-eb71-4495-cb5d-429b262591c5"
      },
      "source": [
        "country_index = Felicidad_mundial.set_index([\"Country name\"])\n",
        "country_index"
      ],
      "execution_count": null,
      "outputs": [
        {
          "output_type": "execute_result",
          "data": {
            "text/html": [
              "<div>\n",
              "<style scoped>\n",
              "    .dataframe tbody tr th:only-of-type {\n",
              "        vertical-align: middle;\n",
              "    }\n",
              "\n",
              "    .dataframe tbody tr th {\n",
              "        vertical-align: top;\n",
              "    }\n",
              "\n",
              "    .dataframe thead th {\n",
              "        text-align: right;\n",
              "    }\n",
              "</style>\n",
              "<table border=\"1\" class=\"dataframe\">\n",
              "  <thead>\n",
              "    <tr style=\"text-align: right;\">\n",
              "      <th></th>\n",
              "      <th>Regional indicator</th>\n",
              "      <th>Ladder score</th>\n",
              "      <th>Standard error of ladder score</th>\n",
              "      <th>upperwhisker</th>\n",
              "      <th>lowerwhisker</th>\n",
              "      <th>Logged GDP per capita</th>\n",
              "      <th>Social support</th>\n",
              "      <th>Healthy life expectancy</th>\n",
              "      <th>Freedom to make life choices</th>\n",
              "      <th>Generosity</th>\n",
              "      <th>Perceptions of corruption</th>\n",
              "      <th>Ladder score in Dystopia</th>\n",
              "      <th>Explained by: Log GDP per capita</th>\n",
              "      <th>Explained by: Social support</th>\n",
              "      <th>Explained by: Healthy life expectancy</th>\n",
              "      <th>Explained by: Freedom to make life choices</th>\n",
              "      <th>Explained by: Generosity</th>\n",
              "      <th>Explained by: Perceptions of corruption</th>\n",
              "      <th>Dystopia + residual</th>\n",
              "    </tr>\n",
              "    <tr>\n",
              "      <th>Country name</th>\n",
              "      <th></th>\n",
              "      <th></th>\n",
              "      <th></th>\n",
              "      <th></th>\n",
              "      <th></th>\n",
              "      <th></th>\n",
              "      <th></th>\n",
              "      <th></th>\n",
              "      <th></th>\n",
              "      <th></th>\n",
              "      <th></th>\n",
              "      <th></th>\n",
              "      <th></th>\n",
              "      <th></th>\n",
              "      <th></th>\n",
              "      <th></th>\n",
              "      <th></th>\n",
              "      <th></th>\n",
              "      <th></th>\n",
              "    </tr>\n",
              "  </thead>\n",
              "  <tbody>\n",
              "    <tr>\n",
              "      <th>Finland</th>\n",
              "      <td>Western Europe</td>\n",
              "      <td>7.842</td>\n",
              "      <td>0.032</td>\n",
              "      <td>7.904</td>\n",
              "      <td>7.780</td>\n",
              "      <td>10.775</td>\n",
              "      <td>0.954</td>\n",
              "      <td>72.000</td>\n",
              "      <td>0.949</td>\n",
              "      <td>-0.098</td>\n",
              "      <td>0.186</td>\n",
              "      <td>2.43</td>\n",
              "      <td>1.446</td>\n",
              "      <td>1.106</td>\n",
              "      <td>0.741</td>\n",
              "      <td>0.691</td>\n",
              "      <td>0.124</td>\n",
              "      <td>0.481</td>\n",
              "      <td>3.253</td>\n",
              "    </tr>\n",
              "    <tr>\n",
              "      <th>Denmark</th>\n",
              "      <td>Western Europe</td>\n",
              "      <td>7.620</td>\n",
              "      <td>0.035</td>\n",
              "      <td>7.687</td>\n",
              "      <td>7.552</td>\n",
              "      <td>10.933</td>\n",
              "      <td>0.954</td>\n",
              "      <td>72.700</td>\n",
              "      <td>0.946</td>\n",
              "      <td>0.030</td>\n",
              "      <td>0.179</td>\n",
              "      <td>2.43</td>\n",
              "      <td>1.502</td>\n",
              "      <td>1.108</td>\n",
              "      <td>0.763</td>\n",
              "      <td>0.686</td>\n",
              "      <td>0.208</td>\n",
              "      <td>0.485</td>\n",
              "      <td>2.868</td>\n",
              "    </tr>\n",
              "    <tr>\n",
              "      <th>Switzerland</th>\n",
              "      <td>Western Europe</td>\n",
              "      <td>7.571</td>\n",
              "      <td>0.036</td>\n",
              "      <td>7.643</td>\n",
              "      <td>7.500</td>\n",
              "      <td>11.117</td>\n",
              "      <td>0.942</td>\n",
              "      <td>74.400</td>\n",
              "      <td>0.919</td>\n",
              "      <td>0.025</td>\n",
              "      <td>0.292</td>\n",
              "      <td>2.43</td>\n",
              "      <td>1.566</td>\n",
              "      <td>1.079</td>\n",
              "      <td>0.816</td>\n",
              "      <td>0.653</td>\n",
              "      <td>0.204</td>\n",
              "      <td>0.413</td>\n",
              "      <td>2.839</td>\n",
              "    </tr>\n",
              "    <tr>\n",
              "      <th>Iceland</th>\n",
              "      <td>Western Europe</td>\n",
              "      <td>7.554</td>\n",
              "      <td>0.059</td>\n",
              "      <td>7.670</td>\n",
              "      <td>7.438</td>\n",
              "      <td>10.878</td>\n",
              "      <td>0.983</td>\n",
              "      <td>73.000</td>\n",
              "      <td>0.955</td>\n",
              "      <td>0.160</td>\n",
              "      <td>0.673</td>\n",
              "      <td>2.43</td>\n",
              "      <td>1.482</td>\n",
              "      <td>1.172</td>\n",
              "      <td>0.772</td>\n",
              "      <td>0.698</td>\n",
              "      <td>0.293</td>\n",
              "      <td>0.170</td>\n",
              "      <td>2.967</td>\n",
              "    </tr>\n",
              "    <tr>\n",
              "      <th>Netherlands</th>\n",
              "      <td>Western Europe</td>\n",
              "      <td>7.464</td>\n",
              "      <td>0.027</td>\n",
              "      <td>7.518</td>\n",
              "      <td>7.410</td>\n",
              "      <td>10.932</td>\n",
              "      <td>0.942</td>\n",
              "      <td>72.400</td>\n",
              "      <td>0.913</td>\n",
              "      <td>0.175</td>\n",
              "      <td>0.338</td>\n",
              "      <td>2.43</td>\n",
              "      <td>1.501</td>\n",
              "      <td>1.079</td>\n",
              "      <td>0.753</td>\n",
              "      <td>0.647</td>\n",
              "      <td>0.302</td>\n",
              "      <td>0.384</td>\n",
              "      <td>2.798</td>\n",
              "    </tr>\n",
              "    <tr>\n",
              "      <th>...</th>\n",
              "      <td>...</td>\n",
              "      <td>...</td>\n",
              "      <td>...</td>\n",
              "      <td>...</td>\n",
              "      <td>...</td>\n",
              "      <td>...</td>\n",
              "      <td>...</td>\n",
              "      <td>...</td>\n",
              "      <td>...</td>\n",
              "      <td>...</td>\n",
              "      <td>...</td>\n",
              "      <td>...</td>\n",
              "      <td>...</td>\n",
              "      <td>...</td>\n",
              "      <td>...</td>\n",
              "      <td>...</td>\n",
              "      <td>...</td>\n",
              "      <td>...</td>\n",
              "      <td>...</td>\n",
              "    </tr>\n",
              "    <tr>\n",
              "      <th>Lesotho</th>\n",
              "      <td>Sub-Saharan Africa</td>\n",
              "      <td>3.512</td>\n",
              "      <td>0.120</td>\n",
              "      <td>3.748</td>\n",
              "      <td>3.276</td>\n",
              "      <td>7.926</td>\n",
              "      <td>0.787</td>\n",
              "      <td>48.700</td>\n",
              "      <td>0.715</td>\n",
              "      <td>-0.131</td>\n",
              "      <td>0.915</td>\n",
              "      <td>2.43</td>\n",
              "      <td>0.451</td>\n",
              "      <td>0.731</td>\n",
              "      <td>0.007</td>\n",
              "      <td>0.405</td>\n",
              "      <td>0.103</td>\n",
              "      <td>0.015</td>\n",
              "      <td>1.800</td>\n",
              "    </tr>\n",
              "    <tr>\n",
              "      <th>Botswana</th>\n",
              "      <td>Sub-Saharan Africa</td>\n",
              "      <td>3.467</td>\n",
              "      <td>0.074</td>\n",
              "      <td>3.611</td>\n",
              "      <td>3.322</td>\n",
              "      <td>9.782</td>\n",
              "      <td>0.784</td>\n",
              "      <td>59.269</td>\n",
              "      <td>0.824</td>\n",
              "      <td>-0.246</td>\n",
              "      <td>0.801</td>\n",
              "      <td>2.43</td>\n",
              "      <td>1.099</td>\n",
              "      <td>0.724</td>\n",
              "      <td>0.340</td>\n",
              "      <td>0.539</td>\n",
              "      <td>0.027</td>\n",
              "      <td>0.088</td>\n",
              "      <td>0.648</td>\n",
              "    </tr>\n",
              "    <tr>\n",
              "      <th>Rwanda</th>\n",
              "      <td>Sub-Saharan Africa</td>\n",
              "      <td>3.415</td>\n",
              "      <td>0.068</td>\n",
              "      <td>3.548</td>\n",
              "      <td>3.282</td>\n",
              "      <td>7.676</td>\n",
              "      <td>0.552</td>\n",
              "      <td>61.400</td>\n",
              "      <td>0.897</td>\n",
              "      <td>0.061</td>\n",
              "      <td>0.167</td>\n",
              "      <td>2.43</td>\n",
              "      <td>0.364</td>\n",
              "      <td>0.202</td>\n",
              "      <td>0.407</td>\n",
              "      <td>0.627</td>\n",
              "      <td>0.227</td>\n",
              "      <td>0.493</td>\n",
              "      <td>1.095</td>\n",
              "    </tr>\n",
              "    <tr>\n",
              "      <th>Zimbabwe</th>\n",
              "      <td>Sub-Saharan Africa</td>\n",
              "      <td>3.145</td>\n",
              "      <td>0.058</td>\n",
              "      <td>3.259</td>\n",
              "      <td>3.030</td>\n",
              "      <td>7.943</td>\n",
              "      <td>0.750</td>\n",
              "      <td>56.201</td>\n",
              "      <td>0.677</td>\n",
              "      <td>-0.047</td>\n",
              "      <td>0.821</td>\n",
              "      <td>2.43</td>\n",
              "      <td>0.457</td>\n",
              "      <td>0.649</td>\n",
              "      <td>0.243</td>\n",
              "      <td>0.359</td>\n",
              "      <td>0.157</td>\n",
              "      <td>0.075</td>\n",
              "      <td>1.205</td>\n",
              "    </tr>\n",
              "    <tr>\n",
              "      <th>Afghanistan</th>\n",
              "      <td>South Asia</td>\n",
              "      <td>2.523</td>\n",
              "      <td>0.038</td>\n",
              "      <td>2.596</td>\n",
              "      <td>2.449</td>\n",
              "      <td>7.695</td>\n",
              "      <td>0.463</td>\n",
              "      <td>52.493</td>\n",
              "      <td>0.382</td>\n",
              "      <td>-0.102</td>\n",
              "      <td>0.924</td>\n",
              "      <td>2.43</td>\n",
              "      <td>0.370</td>\n",
              "      <td>0.000</td>\n",
              "      <td>0.126</td>\n",
              "      <td>0.000</td>\n",
              "      <td>0.122</td>\n",
              "      <td>0.010</td>\n",
              "      <td>1.895</td>\n",
              "    </tr>\n",
              "  </tbody>\n",
              "</table>\n",
              "<p>149 rows × 19 columns</p>\n",
              "</div>"
            ],
            "text/plain": [
              "              Regional indicator  ...  Dystopia + residual\n",
              "Country name                      ...                     \n",
              "Finland           Western Europe  ...                3.253\n",
              "Denmark           Western Europe  ...                2.868\n",
              "Switzerland       Western Europe  ...                2.839\n",
              "Iceland           Western Europe  ...                2.967\n",
              "Netherlands       Western Europe  ...                2.798\n",
              "...                          ...  ...                  ...\n",
              "Lesotho       Sub-Saharan Africa  ...                1.800\n",
              "Botswana      Sub-Saharan Africa  ...                0.648\n",
              "Rwanda        Sub-Saharan Africa  ...                1.095\n",
              "Zimbabwe      Sub-Saharan Africa  ...                1.205\n",
              "Afghanistan           South Asia  ...                1.895\n",
              "\n",
              "[149 rows x 19 columns]"
            ]
          },
          "metadata": {
            "tags": []
          },
          "execution_count": 16
        }
      ]
    },
    {
      "cell_type": "markdown",
      "metadata": {
        "id": "G3usN5SOe1Hx"
      },
      "source": [
        "**Colombia** se posiciona en el puesto número 52 de 149 países con un puntaje de 6,012 y dentro del continente de LatinoAmérica y el Caribe se clasifica compo el décimo país más feliz, una posición intermedia dentro de 20 países. Las categorias que impulsan en mayor medida este resultado y su posición son las cuatro últimas referentes a esperanza de vida saludable, libertad de toma de decisiones, generosidad y percepción de corrupción (variable más crítica) dado que son las que cuentan con menor calificación e incluso con indices negativos.\n",
        "\n",
        "Los analistas destacan un aspecto en particular que es el comportamiento que tuvó para el 2020 el mercado laboral en medio de la pandemia, Colombia se caracterizó por un alto desempleo y la frecuente inactividad laboral que superó las expectativas y por lo tanto, desfavorecio el resultado."
      ]
    },
    {
      "cell_type": "code",
      "metadata": {
        "colab": {
          "base_uri": "https://localhost:8080/"
        },
        "id": "hULbi9qbZ3Js",
        "outputId": "9df9a4ab-d001-4bc6-d158-c825aa75bc79"
      },
      "source": [
        "country_index.loc[\"Colombia\"]"
      ],
      "execution_count": null,
      "outputs": [
        {
          "output_type": "execute_result",
          "data": {
            "text/plain": [
              "Regional indicator                            Latin America and Caribbean\n",
              "Ladder score                                                        6.012\n",
              "Standard error of ladder score                                      0.061\n",
              "upperwhisker                                                        6.132\n",
              "lowerwhisker                                                        5.892\n",
              "Logged GDP per capita                                               9.557\n",
              "Social support                                                      0.847\n",
              "Healthy life expectancy                                            68.001\n",
              "Freedom to make life choices                                        0.837\n",
              "Generosity                                                         -0.135\n",
              "Perceptions of corruption                                           0.841\n",
              "Ladder score in Dystopia                                             2.43\n",
              "Explained by: Log GDP per capita                                    1.021\n",
              "Explained by: Social support                                        0.866\n",
              "Explained by: Healthy life expectancy                               0.615\n",
              "Explained by: Freedom to make life choices                          0.554\n",
              "Explained by: Generosity                                              0.1\n",
              "Explained by: Perceptions of corruption                             0.063\n",
              "Dystopia + residual                                                 2.794\n",
              "Name: Colombia, dtype: object"
            ]
          },
          "metadata": {
            "tags": []
          },
          "execution_count": 17
        }
      ]
    },
    {
      "cell_type": "markdown",
      "metadata": {
        "id": "JTXYnECoko0o"
      },
      "source": [
        "**Comparación con Latino América**"
      ]
    },
    {
      "cell_type": "markdown",
      "metadata": {
        "id": "0p6A0KPomiPR"
      },
      "source": [
        "Si se comparan algunas de las naciones de LatinoAmérica, encontramos a Costa Rica en el primer lugar dentro de la región con un puntaje de 7,069 y a Haiti dentro de la lista llamada \"coleros\" junto con muchos de los países africanos con apenas un 3,953. Con un puntaje similar a Colombia se encuentra Argentina y Perú con 5,92 y 5,84 respectivamente.\n",
        "\n",
        "Una característica común de todos los países es que su menor calificación está en la percepción de corrupción lo que refleja inconvenientes de poder o políticos dentro de cada gobierno de la región."
      ]
    },
    {
      "cell_type": "code",
      "metadata": {
        "id": "2AYhD7JFZg4a"
      },
      "source": [
        "paises_comparables = [\"Colombia\", \"Argentina\", \"Costa Rica\", \"Haiti\", \"Mexico\", \"Peru\"]"
      ],
      "execution_count": null,
      "outputs": []
    },
    {
      "cell_type": "code",
      "metadata": {
        "colab": {
          "base_uri": "https://localhost:8080/",
          "height": 694
        },
        "id": "ZTP21tZifGr2",
        "outputId": "82ed4372-1b4c-4d0e-9757-9cc52b769a88"
      },
      "source": [
        "country_index.loc[paises_comparables]"
      ],
      "execution_count": null,
      "outputs": [
        {
          "output_type": "execute_result",
          "data": {
            "text/html": [
              "<div>\n",
              "<style scoped>\n",
              "    .dataframe tbody tr th:only-of-type {\n",
              "        vertical-align: middle;\n",
              "    }\n",
              "\n",
              "    .dataframe tbody tr th {\n",
              "        vertical-align: top;\n",
              "    }\n",
              "\n",
              "    .dataframe thead th {\n",
              "        text-align: right;\n",
              "    }\n",
              "</style>\n",
              "<table border=\"1\" class=\"dataframe\">\n",
              "  <thead>\n",
              "    <tr style=\"text-align: right;\">\n",
              "      <th></th>\n",
              "      <th>Regional indicator</th>\n",
              "      <th>Ladder score</th>\n",
              "      <th>Standard error of ladder score</th>\n",
              "      <th>upperwhisker</th>\n",
              "      <th>lowerwhisker</th>\n",
              "      <th>Logged GDP per capita</th>\n",
              "      <th>Social support</th>\n",
              "      <th>Healthy life expectancy</th>\n",
              "      <th>Freedom to make life choices</th>\n",
              "      <th>Generosity</th>\n",
              "      <th>Perceptions of corruption</th>\n",
              "      <th>Ladder score in Dystopia</th>\n",
              "      <th>Explained by: Log GDP per capita</th>\n",
              "      <th>Explained by: Social support</th>\n",
              "      <th>Explained by: Healthy life expectancy</th>\n",
              "      <th>Explained by: Freedom to make life choices</th>\n",
              "      <th>Explained by: Generosity</th>\n",
              "      <th>Explained by: Perceptions of corruption</th>\n",
              "      <th>Dystopia + residual</th>\n",
              "    </tr>\n",
              "    <tr>\n",
              "      <th>Country name</th>\n",
              "      <th></th>\n",
              "      <th></th>\n",
              "      <th></th>\n",
              "      <th></th>\n",
              "      <th></th>\n",
              "      <th></th>\n",
              "      <th></th>\n",
              "      <th></th>\n",
              "      <th></th>\n",
              "      <th></th>\n",
              "      <th></th>\n",
              "      <th></th>\n",
              "      <th></th>\n",
              "      <th></th>\n",
              "      <th></th>\n",
              "      <th></th>\n",
              "      <th></th>\n",
              "      <th></th>\n",
              "      <th></th>\n",
              "    </tr>\n",
              "  </thead>\n",
              "  <tbody>\n",
              "    <tr>\n",
              "      <th>Colombia</th>\n",
              "      <td>Latin America and Caribbean</td>\n",
              "      <td>6.012</td>\n",
              "      <td>0.061</td>\n",
              "      <td>6.132</td>\n",
              "      <td>5.892</td>\n",
              "      <td>9.557</td>\n",
              "      <td>0.847</td>\n",
              "      <td>68.001</td>\n",
              "      <td>0.837</td>\n",
              "      <td>-0.135</td>\n",
              "      <td>0.841</td>\n",
              "      <td>2.43</td>\n",
              "      <td>1.021</td>\n",
              "      <td>0.866</td>\n",
              "      <td>0.615</td>\n",
              "      <td>0.554</td>\n",
              "      <td>0.100</td>\n",
              "      <td>0.063</td>\n",
              "      <td>2.794</td>\n",
              "    </tr>\n",
              "    <tr>\n",
              "      <th>Argentina</th>\n",
              "      <td>Latin America and Caribbean</td>\n",
              "      <td>5.929</td>\n",
              "      <td>0.056</td>\n",
              "      <td>6.040</td>\n",
              "      <td>5.819</td>\n",
              "      <td>9.962</td>\n",
              "      <td>0.898</td>\n",
              "      <td>69.000</td>\n",
              "      <td>0.828</td>\n",
              "      <td>-0.182</td>\n",
              "      <td>0.834</td>\n",
              "      <td>2.43</td>\n",
              "      <td>1.162</td>\n",
              "      <td>0.980</td>\n",
              "      <td>0.646</td>\n",
              "      <td>0.544</td>\n",
              "      <td>0.069</td>\n",
              "      <td>0.067</td>\n",
              "      <td>2.461</td>\n",
              "    </tr>\n",
              "    <tr>\n",
              "      <th>Costa Rica</th>\n",
              "      <td>Latin America and Caribbean</td>\n",
              "      <td>7.069</td>\n",
              "      <td>0.056</td>\n",
              "      <td>7.179</td>\n",
              "      <td>6.960</td>\n",
              "      <td>9.880</td>\n",
              "      <td>0.891</td>\n",
              "      <td>71.400</td>\n",
              "      <td>0.934</td>\n",
              "      <td>-0.126</td>\n",
              "      <td>0.809</td>\n",
              "      <td>2.43</td>\n",
              "      <td>1.134</td>\n",
              "      <td>0.966</td>\n",
              "      <td>0.722</td>\n",
              "      <td>0.673</td>\n",
              "      <td>0.105</td>\n",
              "      <td>0.083</td>\n",
              "      <td>3.387</td>\n",
              "    </tr>\n",
              "    <tr>\n",
              "      <th>Haiti</th>\n",
              "      <td>Latin America and Caribbean</td>\n",
              "      <td>3.615</td>\n",
              "      <td>0.173</td>\n",
              "      <td>3.953</td>\n",
              "      <td>3.276</td>\n",
              "      <td>7.477</td>\n",
              "      <td>0.540</td>\n",
              "      <td>55.700</td>\n",
              "      <td>0.593</td>\n",
              "      <td>0.422</td>\n",
              "      <td>0.721</td>\n",
              "      <td>2.43</td>\n",
              "      <td>0.294</td>\n",
              "      <td>0.173</td>\n",
              "      <td>0.227</td>\n",
              "      <td>0.257</td>\n",
              "      <td>0.463</td>\n",
              "      <td>0.139</td>\n",
              "      <td>2.060</td>\n",
              "    </tr>\n",
              "    <tr>\n",
              "      <th>Mexico</th>\n",
              "      <td>Latin America and Caribbean</td>\n",
              "      <td>6.317</td>\n",
              "      <td>0.053</td>\n",
              "      <td>6.420</td>\n",
              "      <td>6.213</td>\n",
              "      <td>9.859</td>\n",
              "      <td>0.831</td>\n",
              "      <td>68.597</td>\n",
              "      <td>0.862</td>\n",
              "      <td>-0.147</td>\n",
              "      <td>0.799</td>\n",
              "      <td>2.43</td>\n",
              "      <td>1.126</td>\n",
              "      <td>0.830</td>\n",
              "      <td>0.634</td>\n",
              "      <td>0.585</td>\n",
              "      <td>0.092</td>\n",
              "      <td>0.089</td>\n",
              "      <td>2.961</td>\n",
              "    </tr>\n",
              "    <tr>\n",
              "      <th>Peru</th>\n",
              "      <td>Latin America and Caribbean</td>\n",
              "      <td>5.840</td>\n",
              "      <td>0.075</td>\n",
              "      <td>5.988</td>\n",
              "      <td>5.692</td>\n",
              "      <td>9.458</td>\n",
              "      <td>0.832</td>\n",
              "      <td>68.250</td>\n",
              "      <td>0.822</td>\n",
              "      <td>-0.154</td>\n",
              "      <td>0.891</td>\n",
              "      <td>2.43</td>\n",
              "      <td>0.986</td>\n",
              "      <td>0.833</td>\n",
              "      <td>0.623</td>\n",
              "      <td>0.536</td>\n",
              "      <td>0.087</td>\n",
              "      <td>0.031</td>\n",
              "      <td>2.744</td>\n",
              "    </tr>\n",
              "  </tbody>\n",
              "</table>\n",
              "</div>"
            ],
            "text/plain": [
              "                       Regional indicator  ...  Dystopia + residual\n",
              "Country name                               ...                     \n",
              "Colombia      Latin America and Caribbean  ...                2.794\n",
              "Argentina     Latin America and Caribbean  ...                2.461\n",
              "Costa Rica    Latin America and Caribbean  ...                3.387\n",
              "Haiti         Latin America and Caribbean  ...                2.060\n",
              "Mexico        Latin America and Caribbean  ...                2.961\n",
              "Peru          Latin America and Caribbean  ...                2.744\n",
              "\n",
              "[6 rows x 19 columns]"
            ]
          },
          "metadata": {
            "tags": []
          },
          "execution_count": 19
        }
      ]
    },
    {
      "cell_type": "markdown",
      "metadata": {
        "id": "-6Xkw72vw3X_"
      },
      "source": [
        "###**PIB per cápita**\n",
        "*Se toma a los ingresos como la obtención de riqueza que puede satisfacer necesidades o preferencias de los individuos y de esa manera incrementar su felicidad*"
      ]
    },
    {
      "cell_type": "code",
      "metadata": {
        "id": "d6RA0ZqiIDjo"
      },
      "source": [
        "media_latam = Felicidad_mundial[Felicidad_mundial[\"Regional indicator\"] == \"Latin America and Caribbean\"][\"Logged GDP per capita\"].mean()\n",
        "media_eastasia = Felicidad_mundial[Felicidad_mundial[\"Regional indicator\"] == \"East Asia\"][\"Logged GDP per capita\"].mean() \n",
        "media_afrsub = Felicidad_mundial[Felicidad_mundial[\"Regional indicator\"] == \"Sub-Saharan Africa\"][\"Logged GDP per capita\"].mean() \n",
        "media_centeasteur = Felicidad_mundial[Felicidad_mundial[\"Regional indicator\"] == \"Central and Eastern Europe\"][\"Logged GDP per capita\"].mean() \n",
        "media_naanz = Felicidad_mundial[Felicidad_mundial[\"Regional indicator\"] == \"North America and ANZ\"][\"Logged GDP per capita\"].mean() "
      ],
      "execution_count": null,
      "outputs": []
    },
    {
      "cell_type": "code",
      "metadata": {
        "colab": {
          "base_uri": "https://localhost:8080/"
        },
        "id": "Zz5-y8ByJgRw",
        "outputId": "fae31a47-7148-4eae-ba9c-c2bdd6180c81"
      },
      "source": [
        "print(\"El promedio de la variación porcentual del PIB per capita en Latinoamerica y el Caribe es\", media_latam)\n",
        "print(\"El promedio de la variación porcentual del PIB per capita en Asia del Este es\", media_eastasia)\n",
        "print(\"El promedio de la variación porcentual del PIB per capita en Africa Subsahariana\", media_afrsub)\n",
        "print(\"El promedio de la variación porcentual del PIB per capita en Europa central y del este es\", media_centeasteur)\n",
        "print(\"El promedio de la variación porcentual del PIB per capita en América del Norte, Australia y Nueva Zelanda es\", media_naanz)"
      ],
      "execution_count": null,
      "outputs": [
        {
          "output_type": "stream",
          "text": [
            "El promedio de la variación porcentual del PIB per capita en Latinoamerica y el Caribe es 9.370000000000001\n",
            "El promedio de la variación porcentual del PIB per capita en Asia del Este es 10.367666666666667\n",
            "El promedio de la variación porcentual del PIB per capita en Africa Subsahariana 8.075194444444442\n",
            "El promedio de la variación porcentual del PIB per capita en Europa central y del este es 10.109058823529413\n",
            "El promedio de la variación porcentual del PIB per capita en América del Norte, Australia y Nueva Zelanda es 10.8095\n"
          ],
          "name": "stdout"
        }
      ]
    },
    {
      "cell_type": "markdown",
      "metadata": {
        "id": "p7PcjLO1zGTV"
      },
      "source": [
        "A partir de la obtención de las medias de las variaciones del pib per cápita por continente, es posible apreciar que los países de América del Norte, Australia, Nueva Zelanda, Asia del Este y Europa Central y del Este, cuentan con valores superiores a 10.0. La regiones Latinoamérica y África Subsahariana están un poco rezagadas en este valor, lo cual es económicamente intuitivo, ya que la mayoría de países de estas regiones no cuentan con economías tan fortalecidas o desarrolladas como las de las otras regiones. "
      ]
    },
    {
      "cell_type": "code",
      "metadata": {
        "id": "TqHYmsNDXszJ"
      },
      "source": [
        "import matplotlib.pyplot as plt"
      ],
      "execution_count": null,
      "outputs": []
    },
    {
      "cell_type": "markdown",
      "metadata": {
        "id": "WdsDAddifZBZ"
      },
      "source": [
        "Uno de los aspectos que más impulsa la felicidad de los individuos es la riqueza. Este hecho se puede ver evidenciado en la siguiente gráfica, donde existe una relación directa entre el puntaje de felicidad y la variación en el PIB per cápita. "
      ]
    },
    {
      "cell_type": "code",
      "metadata": {
        "colab": {
          "base_uri": "https://localhost:8080/",
          "height": 295
        },
        "id": "HjQ6QneoYLtX",
        "outputId": "548010bd-b8be-499f-80a2-92c7e3f6a959"
      },
      "source": [
        "fig, ax = plt.subplots()\n",
        "ax.scatter(Felicidad_mundial[\"Ladder score\"], Felicidad_mundial[\"Logged GDP per capita\"],\n",
        "           marker = \"x\", color = \"royalblue\", alpha = 0.5)\n",
        "ax.set_xlabel(\"Ladder score\")\n",
        "ax.set_ylabel(\"Logged GDP per capita\")\n",
        "ax.set_title(\"ScatterPlot entre Ladder score y var. GDP per capita\")\n",
        "plt.show()"
      ],
      "execution_count": null,
      "outputs": [
        {
          "output_type": "display_data",
          "data": {
            "image/png": "[encoded data removed]",
            "text/plain": [
              "<Figure size 432x288 with 1 Axes>"
            ]
          },
          "metadata": {
            "tags": [],
            "needs_background": "light"
          }
        }
      ]
    },
    {
      "cell_type": "code",
      "metadata": {
        "colab": {
          "base_uri": "https://localhost:8080/",
          "height": 281
        },
        "id": "4r-xDkSAxgu9",
        "outputId": "4eca8bc7-e719-40dd-e230-a940ad60c241"
      },
      "source": [
        "fig, ax = plt.subplots()\n",
        "ax.hist(Felicidad_mundial[\"Explained by: Social support\"], bins = 25, alpha = 0.5, color = \"tan\")\n",
        "ax.hist(Felicidad_mundial[\"Explained by: Log GDP per capita\"], bins = 25, alpha = 0.2, color = \"saddlebrown\")\n",
        "ax.set_title(\"Comparación de distribuciones PIB per capita vs Apoyo Social\")\n",
        "plt.show()"
      ],
      "execution_count": null,
      "outputs": [
        {
          "output_type": "display_data",
          "data": {
            "image/png": "[encoded data removed]",
            "text/plain": [
              "<Figure size 432x288 with 1 Axes>"
            ]
          },
          "metadata": {
            "tags": [],
            "needs_background": "light"
          }
        }
      ]
    },
    {
      "cell_type": "markdown",
      "metadata": {
        "id": "_OZZObokzHlE"
      },
      "source": [
        "En esta comparación de distribuciones se puede apreciar que el PIB per capita tiene una mayor dispersión en su distribución respecto a la distribución de Apoyo Social, que llega a un máximo de 1.20, aproximadamente. Eso refleja que el PIB per cápita cuenta con una mayor representación en la explicación del incremento de la felicidad en los diferentes países. "
      ]
    },
    {
      "cell_type": "markdown",
      "metadata": {
        "id": "zSqpdMSeNPBN"
      },
      "source": [
        "###**Percepción de Corrupción**\n",
        "*Se refiere a la ausencia de corrupción en el gobierno y las empresas percibida por los ciudadanos*\n",
        "\n",
        "Esta es una de las variables políticas de nuestro mayor interés, por lo cuál filtramos los 10 países con mayor percepción de corrupción en la base de datos encontrando que 6 de estos 10 países pertenecen a Europa Central o del Este."
      ]
    },
    {
      "cell_type": "code",
      "metadata": {
        "colab": {
          "base_uri": "https://localhost:8080/",
          "height": 642
        },
        "id": "qGUahWowJKa0",
        "outputId": "7dbbdbab-0211-4e20-efe8-2b128becc347"
      },
      "source": [
        "Felicidad_mundial.sort_values(\"Perceptions of corruption\", ascending = False).head(10)"
      ],
      "execution_count": null,
      "outputs": [
        {
          "output_type": "execute_result",
          "data": {
            "text/html": [
              "<div>\n",
              "<style scoped>\n",
              "    .dataframe tbody tr th:only-of-type {\n",
              "        vertical-align: middle;\n",
              "    }\n",
              "\n",
              "    .dataframe tbody tr th {\n",
              "        vertical-align: top;\n",
              "    }\n",
              "\n",
              "    .dataframe thead th {\n",
              "        text-align: right;\n",
              "    }\n",
              "</style>\n",
              "<table border=\"1\" class=\"dataframe\">\n",
              "  <thead>\n",
              "    <tr style=\"text-align: right;\">\n",
              "      <th></th>\n",
              "      <th>Country name</th>\n",
              "      <th>Regional indicator</th>\n",
              "      <th>Ladder score</th>\n",
              "      <th>Standard error of ladder score</th>\n",
              "      <th>upperwhisker</th>\n",
              "      <th>lowerwhisker</th>\n",
              "      <th>Logged GDP per capita</th>\n",
              "      <th>Social support</th>\n",
              "      <th>Healthy life expectancy</th>\n",
              "      <th>Freedom to make life choices</th>\n",
              "      <th>Generosity</th>\n",
              "      <th>Perceptions of corruption</th>\n",
              "      <th>Ladder score in Dystopia</th>\n",
              "      <th>Explained by: Log GDP per capita</th>\n",
              "      <th>Explained by: Social support</th>\n",
              "      <th>Explained by: Healthy life expectancy</th>\n",
              "      <th>Explained by: Freedom to make life choices</th>\n",
              "      <th>Explained by: Generosity</th>\n",
              "      <th>Explained by: Perceptions of corruption</th>\n",
              "      <th>Dystopia + residual</th>\n",
              "    </tr>\n",
              "  </thead>\n",
              "  <tbody>\n",
              "    <tr>\n",
              "      <th>59</th>\n",
              "      <td>Croatia</td>\n",
              "      <td>Central and Eastern Europe</td>\n",
              "      <td>5.882</td>\n",
              "      <td>0.048</td>\n",
              "      <td>5.975</td>\n",
              "      <td>5.788</td>\n",
              "      <td>10.217</td>\n",
              "      <td>0.924</td>\n",
              "      <td>70.799</td>\n",
              "      <td>0.754</td>\n",
              "      <td>-0.118</td>\n",
              "      <td>0.939</td>\n",
              "      <td>2.43</td>\n",
              "      <td>1.251</td>\n",
              "      <td>1.039</td>\n",
              "      <td>0.703</td>\n",
              "      <td>0.453</td>\n",
              "      <td>0.111</td>\n",
              "      <td>0.000</td>\n",
              "      <td>2.325</td>\n",
              "    </tr>\n",
              "    <tr>\n",
              "      <th>45</th>\n",
              "      <td>Romania</td>\n",
              "      <td>Central and Eastern Europe</td>\n",
              "      <td>6.140</td>\n",
              "      <td>0.057</td>\n",
              "      <td>6.253</td>\n",
              "      <td>6.027</td>\n",
              "      <td>10.284</td>\n",
              "      <td>0.832</td>\n",
              "      <td>67.355</td>\n",
              "      <td>0.845</td>\n",
              "      <td>-0.219</td>\n",
              "      <td>0.938</td>\n",
              "      <td>2.43</td>\n",
              "      <td>1.275</td>\n",
              "      <td>0.832</td>\n",
              "      <td>0.595</td>\n",
              "      <td>0.564</td>\n",
              "      <td>0.045</td>\n",
              "      <td>0.001</td>\n",
              "      <td>2.830</td>\n",
              "    </tr>\n",
              "    <tr>\n",
              "      <th>87</th>\n",
              "      <td>Bulgaria</td>\n",
              "      <td>Central and Eastern Europe</td>\n",
              "      <td>5.266</td>\n",
              "      <td>0.054</td>\n",
              "      <td>5.371</td>\n",
              "      <td>5.160</td>\n",
              "      <td>10.016</td>\n",
              "      <td>0.931</td>\n",
              "      <td>67.000</td>\n",
              "      <td>0.788</td>\n",
              "      <td>-0.096</td>\n",
              "      <td>0.932</td>\n",
              "      <td>2.43</td>\n",
              "      <td>1.181</td>\n",
              "      <td>1.055</td>\n",
              "      <td>0.583</td>\n",
              "      <td>0.494</td>\n",
              "      <td>0.125</td>\n",
              "      <td>0.005</td>\n",
              "      <td>1.823</td>\n",
              "    </tr>\n",
              "    <tr>\n",
              "      <th>63</th>\n",
              "      <td>Bosnia and Herzegovina</td>\n",
              "      <td>Central and Eastern Europe</td>\n",
              "      <td>5.813</td>\n",
              "      <td>0.050</td>\n",
              "      <td>5.911</td>\n",
              "      <td>5.715</td>\n",
              "      <td>9.590</td>\n",
              "      <td>0.870</td>\n",
              "      <td>68.098</td>\n",
              "      <td>0.706</td>\n",
              "      <td>0.113</td>\n",
              "      <td>0.931</td>\n",
              "      <td>2.43</td>\n",
              "      <td>1.032</td>\n",
              "      <td>0.919</td>\n",
              "      <td>0.618</td>\n",
              "      <td>0.395</td>\n",
              "      <td>0.261</td>\n",
              "      <td>0.005</td>\n",
              "      <td>2.583</td>\n",
              "    </tr>\n",
              "    <tr>\n",
              "      <th>148</th>\n",
              "      <td>Afghanistan</td>\n",
              "      <td>South Asia</td>\n",
              "      <td>2.523</td>\n",
              "      <td>0.038</td>\n",
              "      <td>2.596</td>\n",
              "      <td>2.449</td>\n",
              "      <td>7.695</td>\n",
              "      <td>0.463</td>\n",
              "      <td>52.493</td>\n",
              "      <td>0.382</td>\n",
              "      <td>-0.102</td>\n",
              "      <td>0.924</td>\n",
              "      <td>2.43</td>\n",
              "      <td>0.370</td>\n",
              "      <td>0.000</td>\n",
              "      <td>0.126</td>\n",
              "      <td>0.000</td>\n",
              "      <td>0.122</td>\n",
              "      <td>0.010</td>\n",
              "      <td>1.895</td>\n",
              "    </tr>\n",
              "    <tr>\n",
              "      <th>109</th>\n",
              "      <td>Ukraine</td>\n",
              "      <td>Commonwealth of Independent States</td>\n",
              "      <td>4.875</td>\n",
              "      <td>0.052</td>\n",
              "      <td>4.977</td>\n",
              "      <td>4.773</td>\n",
              "      <td>9.436</td>\n",
              "      <td>0.888</td>\n",
              "      <td>64.902</td>\n",
              "      <td>0.724</td>\n",
              "      <td>-0.011</td>\n",
              "      <td>0.924</td>\n",
              "      <td>2.43</td>\n",
              "      <td>0.979</td>\n",
              "      <td>0.958</td>\n",
              "      <td>0.517</td>\n",
              "      <td>0.417</td>\n",
              "      <td>0.181</td>\n",
              "      <td>0.010</td>\n",
              "      <td>1.813</td>\n",
              "    </tr>\n",
              "    <tr>\n",
              "      <th>64</th>\n",
              "      <td>Moldova</td>\n",
              "      <td>Commonwealth of Independent States</td>\n",
              "      <td>5.766</td>\n",
              "      <td>0.046</td>\n",
              "      <td>5.856</td>\n",
              "      <td>5.677</td>\n",
              "      <td>9.454</td>\n",
              "      <td>0.857</td>\n",
              "      <td>65.699</td>\n",
              "      <td>0.822</td>\n",
              "      <td>-0.079</td>\n",
              "      <td>0.918</td>\n",
              "      <td>2.43</td>\n",
              "      <td>0.985</td>\n",
              "      <td>0.888</td>\n",
              "      <td>0.542</td>\n",
              "      <td>0.536</td>\n",
              "      <td>0.137</td>\n",
              "      <td>0.013</td>\n",
              "      <td>2.665</td>\n",
              "    </tr>\n",
              "    <tr>\n",
              "      <th>32</th>\n",
              "      <td>Kosovo</td>\n",
              "      <td>Central and Eastern Europe</td>\n",
              "      <td>6.372</td>\n",
              "      <td>0.059</td>\n",
              "      <td>6.487</td>\n",
              "      <td>6.257</td>\n",
              "      <td>9.318</td>\n",
              "      <td>0.821</td>\n",
              "      <td>63.813</td>\n",
              "      <td>0.869</td>\n",
              "      <td>0.257</td>\n",
              "      <td>0.917</td>\n",
              "      <td>2.43</td>\n",
              "      <td>0.937</td>\n",
              "      <td>0.807</td>\n",
              "      <td>0.483</td>\n",
              "      <td>0.593</td>\n",
              "      <td>0.356</td>\n",
              "      <td>0.014</td>\n",
              "      <td>3.182</td>\n",
              "    </tr>\n",
              "    <tr>\n",
              "      <th>144</th>\n",
              "      <td>Lesotho</td>\n",
              "      <td>Sub-Saharan Africa</td>\n",
              "      <td>3.512</td>\n",
              "      <td>0.120</td>\n",
              "      <td>3.748</td>\n",
              "      <td>3.276</td>\n",
              "      <td>7.926</td>\n",
              "      <td>0.787</td>\n",
              "      <td>48.700</td>\n",
              "      <td>0.715</td>\n",
              "      <td>-0.131</td>\n",
              "      <td>0.915</td>\n",
              "      <td>2.43</td>\n",
              "      <td>0.451</td>\n",
              "      <td>0.731</td>\n",
              "      <td>0.007</td>\n",
              "      <td>0.405</td>\n",
              "      <td>0.103</td>\n",
              "      <td>0.015</td>\n",
              "      <td>1.800</td>\n",
              "    </tr>\n",
              "    <tr>\n",
              "      <th>33</th>\n",
              "      <td>Slovakia</td>\n",
              "      <td>Central and Eastern Europe</td>\n",
              "      <td>6.331</td>\n",
              "      <td>0.041</td>\n",
              "      <td>6.411</td>\n",
              "      <td>6.251</td>\n",
              "      <td>10.369</td>\n",
              "      <td>0.936</td>\n",
              "      <td>69.201</td>\n",
              "      <td>0.766</td>\n",
              "      <td>-0.124</td>\n",
              "      <td>0.911</td>\n",
              "      <td>2.43</td>\n",
              "      <td>1.304</td>\n",
              "      <td>1.066</td>\n",
              "      <td>0.653</td>\n",
              "      <td>0.468</td>\n",
              "      <td>0.107</td>\n",
              "      <td>0.018</td>\n",
              "      <td>2.714</td>\n",
              "    </tr>\n",
              "  </tbody>\n",
              "</table>\n",
              "</div>"
            ],
            "text/plain": [
              "               Country name  ... Dystopia + residual\n",
              "59                  Croatia  ...               2.325\n",
              "45                  Romania  ...               2.830\n",
              "87                 Bulgaria  ...               1.823\n",
              "63   Bosnia and Herzegovina  ...               2.583\n",
              "148             Afghanistan  ...               1.895\n",
              "109                 Ukraine  ...               1.813\n",
              "64                  Moldova  ...               2.665\n",
              "32                   Kosovo  ...               3.182\n",
              "144                 Lesotho  ...               1.800\n",
              "33                 Slovakia  ...               2.714\n",
              "\n",
              "[10 rows x 20 columns]"
            ]
          },
          "metadata": {
            "tags": []
          },
          "execution_count": 44
        }
      ]
    },
    {
      "cell_type": "code",
      "metadata": {
        "colab": {
          "base_uri": "https://localhost:8080/",
          "height": 281
        },
        "id": "el2mWBII1D11",
        "outputId": "7971826f-01a2-4525-dbee-7c3ed742b1e4"
      },
      "source": [
        "fig, ax = plt.subplots()\n",
        "ax.hist(Felicidad_mundial[\"Explained by: Perceptions of corruption\"], bins = 25, alpha = 0.5, color = \"darksalmon\")\n",
        "ax.hist(Felicidad_mundial[\"Explained by: Generosity\"], bins = 25, alpha = 0.5, color = \"lightsteelblue\")\n",
        "ax.set_title(\"Comparación de distribuciones Corrupción vs Generosidad\")\n",
        "plt.show()"
      ],
      "execution_count": null,
      "outputs": [
        {
          "output_type": "display_data",
          "data": {
            "image/png": "[encoded data removed]",
            "text/plain": [
              "<Figure size 432x288 with 1 Axes>"
            ]
          },
          "metadata": {
            "tags": [],
            "needs_background": "light"
          }
        }
      ]
    },
    {
      "cell_type": "markdown",
      "metadata": {
        "id": "XqODyNEz2DYH"
      },
      "source": [
        "En esta comparación de distribuciones se puede apreciar que los valores de la variable Corrupción tienen un mayor sesgo en su distribución hacia la izquierda respecto a la distribución de Generosidad, lo cual refleja que la percecpción de corrupción podría contar con una menor representación en la explicación del incremento de la felicidad en los diferentes países. "
      ]
    },
    {
      "cell_type": "code",
      "metadata": {
        "id": "HOsbs4aI-ck7"
      },
      "source": [
        "import seaborn as sns"
      ],
      "execution_count": null,
      "outputs": []
    },
    {
      "cell_type": "code",
      "metadata": {
        "colab": {
          "base_uri": "https://localhost:8080/",
          "height": 387
        },
        "id": "WDJBngN8BpLM",
        "outputId": "048169de-6d45-4f45-d6b6-84b26d677b4a"
      },
      "source": [
        "f = sns.relplot(x = \"Ladder score\", y = \"Explained by: Perceptions of corruption\", \n",
        "                data = Felicidad_mundial,\n",
        "                kind = \"scatter\",\n",
        "                style = \"Regional indicator\",\n",
        "                hue = \"Regional indicator\")\n",
        "f.fig.suptitle(\"Relación entre felicidad y Percepción de Corrupción por Región\")\n",
        "plt.show()"
      ],
      "execution_count": null,
      "outputs": [
        {
          "output_type": "display_data",
          "data": {
            "image/png": "[encoded data removed]",
            "text/plain": [
              "<Figure size 587.75x360 with 1 Axes>"
            ]
          },
          "metadata": {
            "tags": [],
            "needs_background": "light"
          }
        }
      ]
    },
    {
      "cell_type": "markdown",
      "metadata": {
        "id": "xjbIXxnz_d1z"
      },
      "source": [
        "De forma general, los países de todas las regiones se concentran en cúmulos, lo cual denota cierta similitud en su respectiva relación entre felicidad y percepción de corrupción. Por el contrario, los países de europa occidental demuestran una dispersión de los datos. Para la gran mayoría de las regiones, existen ciertos datos atípicos muy alejados de las concentraciones, como es el caso de un país del África Subsahariana (parte superior izquierda). "
      ]
    },
    {
      "cell_type": "markdown",
      "metadata": {
        "id": "SgLODPBswnwQ"
      },
      "source": [
        "###**Experanza de vida Saludable**\n",
        "*Estado del sistema de salud en cobertura y calidad, bienestar fisico y condiciones de vida de los ciudadanos que se catalogan como saludables*\n"
      ]
    },
    {
      "cell_type": "code",
      "metadata": {
        "colab": {
          "base_uri": "https://localhost:8080/",
          "height": 555
        },
        "id": "2MuJJiRJ-m-N",
        "outputId": "94820d4f-7f52-44a6-f49d-9c24950f5818"
      },
      "source": [
        "Felicidad_mundial[(Felicidad_mundial[\"Healthy life expectancy\"] > 68) & (Felicidad_mundial[\"Regional indicator\"] == \"Latin America and Caribbean\")].sort_values(\"Healthy life expectancy\", ascending = False).head(5)"
      ],
      "execution_count": null,
      "outputs": [
        {
          "output_type": "execute_result",
          "data": {
            "text/html": [
              "<div>\n",
              "<style scoped>\n",
              "    .dataframe tbody tr th:only-of-type {\n",
              "        vertical-align: middle;\n",
              "    }\n",
              "\n",
              "    .dataframe tbody tr th {\n",
              "        vertical-align: top;\n",
              "    }\n",
              "\n",
              "    .dataframe thead th {\n",
              "        text-align: right;\n",
              "    }\n",
              "</style>\n",
              "<table border=\"1\" class=\"dataframe\">\n",
              "  <thead>\n",
              "    <tr style=\"text-align: right;\">\n",
              "      <th></th>\n",
              "      <th>Country name</th>\n",
              "      <th>Regional indicator</th>\n",
              "      <th>Ladder score</th>\n",
              "      <th>Standard error of ladder score</th>\n",
              "      <th>upperwhisker</th>\n",
              "      <th>lowerwhisker</th>\n",
              "      <th>Logged GDP per capita</th>\n",
              "      <th>Social support</th>\n",
              "      <th>Healthy life expectancy</th>\n",
              "      <th>Freedom to make life choices</th>\n",
              "      <th>Generosity</th>\n",
              "      <th>Perceptions of corruption</th>\n",
              "      <th>Ladder score in Dystopia</th>\n",
              "      <th>Explained by: Log GDP per capita</th>\n",
              "      <th>Explained by: Social support</th>\n",
              "      <th>Explained by: Healthy life expectancy</th>\n",
              "      <th>Explained by: Freedom to make life choices</th>\n",
              "      <th>Explained by: Generosity</th>\n",
              "      <th>Explained by: Perceptions of corruption</th>\n",
              "      <th>Dystopia + residual</th>\n",
              "    </tr>\n",
              "  </thead>\n",
              "  <tbody>\n",
              "    <tr>\n",
              "      <th>15</th>\n",
              "      <td>Costa Rica</td>\n",
              "      <td>Latin America and Caribbean</td>\n",
              "      <td>7.069</td>\n",
              "      <td>0.056</td>\n",
              "      <td>7.179</td>\n",
              "      <td>6.960</td>\n",
              "      <td>9.880</td>\n",
              "      <td>0.891</td>\n",
              "      <td>71.400</td>\n",
              "      <td>0.934</td>\n",
              "      <td>-0.126</td>\n",
              "      <td>0.809</td>\n",
              "      <td>2.43</td>\n",
              "      <td>1.134</td>\n",
              "      <td>0.966</td>\n",
              "      <td>0.722</td>\n",
              "      <td>0.673</td>\n",
              "      <td>0.105</td>\n",
              "      <td>0.083</td>\n",
              "      <td>3.387</td>\n",
              "    </tr>\n",
              "    <tr>\n",
              "      <th>42</th>\n",
              "      <td>Chile</td>\n",
              "      <td>Latin America and Caribbean</td>\n",
              "      <td>6.172</td>\n",
              "      <td>0.046</td>\n",
              "      <td>6.262</td>\n",
              "      <td>6.081</td>\n",
              "      <td>10.071</td>\n",
              "      <td>0.882</td>\n",
              "      <td>70.000</td>\n",
              "      <td>0.742</td>\n",
              "      <td>-0.044</td>\n",
              "      <td>0.830</td>\n",
              "      <td>2.43</td>\n",
              "      <td>1.200</td>\n",
              "      <td>0.946</td>\n",
              "      <td>0.678</td>\n",
              "      <td>0.438</td>\n",
              "      <td>0.159</td>\n",
              "      <td>0.070</td>\n",
              "      <td>2.682</td>\n",
              "    </tr>\n",
              "    <tr>\n",
              "      <th>40</th>\n",
              "      <td>Panama</td>\n",
              "      <td>Latin America and Caribbean</td>\n",
              "      <td>6.180</td>\n",
              "      <td>0.073</td>\n",
              "      <td>6.323</td>\n",
              "      <td>6.036</td>\n",
              "      <td>10.350</td>\n",
              "      <td>0.896</td>\n",
              "      <td>69.652</td>\n",
              "      <td>0.872</td>\n",
              "      <td>-0.166</td>\n",
              "      <td>0.856</td>\n",
              "      <td>2.43</td>\n",
              "      <td>1.298</td>\n",
              "      <td>0.976</td>\n",
              "      <td>0.667</td>\n",
              "      <td>0.596</td>\n",
              "      <td>0.079</td>\n",
              "      <td>0.053</td>\n",
              "      <td>2.509</td>\n",
              "    </tr>\n",
              "    <tr>\n",
              "      <th>30</th>\n",
              "      <td>Uruguay</td>\n",
              "      <td>Latin America and Caribbean</td>\n",
              "      <td>6.431</td>\n",
              "      <td>0.046</td>\n",
              "      <td>6.521</td>\n",
              "      <td>6.341</td>\n",
              "      <td>9.966</td>\n",
              "      <td>0.925</td>\n",
              "      <td>69.100</td>\n",
              "      <td>0.896</td>\n",
              "      <td>-0.092</td>\n",
              "      <td>0.590</td>\n",
              "      <td>2.43</td>\n",
              "      <td>1.164</td>\n",
              "      <td>1.042</td>\n",
              "      <td>0.649</td>\n",
              "      <td>0.625</td>\n",
              "      <td>0.128</td>\n",
              "      <td>0.223</td>\n",
              "      <td>2.600</td>\n",
              "    </tr>\n",
              "    <tr>\n",
              "      <th>56</th>\n",
              "      <td>Argentina</td>\n",
              "      <td>Latin America and Caribbean</td>\n",
              "      <td>5.929</td>\n",
              "      <td>0.056</td>\n",
              "      <td>6.040</td>\n",
              "      <td>5.819</td>\n",
              "      <td>9.962</td>\n",
              "      <td>0.898</td>\n",
              "      <td>69.000</td>\n",
              "      <td>0.828</td>\n",
              "      <td>-0.182</td>\n",
              "      <td>0.834</td>\n",
              "      <td>2.43</td>\n",
              "      <td>1.162</td>\n",
              "      <td>0.980</td>\n",
              "      <td>0.646</td>\n",
              "      <td>0.544</td>\n",
              "      <td>0.069</td>\n",
              "      <td>0.067</td>\n",
              "      <td>2.461</td>\n",
              "    </tr>\n",
              "  </tbody>\n",
              "</table>\n",
              "</div>"
            ],
            "text/plain": [
              "   Country name  ... Dystopia + residual\n",
              "15   Costa Rica  ...               3.387\n",
              "42        Chile  ...               2.682\n",
              "40       Panama  ...               2.509\n",
              "30      Uruguay  ...               2.600\n",
              "56    Argentina  ...               2.461\n",
              "\n",
              "[5 rows x 20 columns]"
            ]
          },
          "metadata": {
            "tags": []
          },
          "execution_count": 24
        }
      ]
    },
    {
      "cell_type": "markdown",
      "metadata": {
        "id": "01YlWnuerUj8"
      },
      "source": [
        "Los 5 países latinoamericanos con mayor esperanza de vida saludable corresponden a **Costa Rica**, **Chile**, **Panamá**, **Uruguay** y **Argentina**. Esto sigue la línea de reportes sobre expectativa y calidad de vida que también sitúan a Costa Rica y a Chile como los países líderes a nivel latinoamérica en estos rubros, particularmente por sus fortalezas en salud, seguridad y educación.\n",
        "\n",
        "Este ranking reaizado sobre esperanza de vida saludable no concuerda necesariamente con el puesto del país según el Ladder score, debido a que países como Uruguay (30), que aunque no ostentan el primer lugar en la región para dicho rubro, si cuentan con valores altos en apoyo social (0.925), y otros valores bastante favorables en percepción de corrupción (0.590), lo cual lo sitúa por encima de Chile (42) y Panamá (40) en el ranking total. "
      ]
    },
    {
      "cell_type": "code",
      "metadata": {
        "colab": {
          "base_uri": "https://localhost:8080/"
        },
        "id": "bQrebzzKDrmy",
        "outputId": "69eb702a-621f-4600-c927-d85c2eb0bc64"
      },
      "source": [
        "region_ind = Felicidad_mundial.groupby(\"Regional indicator\")[\"Healthy life expectancy\"].mean()\n",
        "region_ind"
      ],
      "execution_count": null,
      "outputs": [
        {
          "output_type": "execute_result",
          "data": {
            "text/plain": [
              "Regional indicator\n",
              "Central and Eastern Europe            68.338412\n",
              "Commonwealth of Independent States    65.009500\n",
              "East Asia                             71.252167\n",
              "Latin America and Caribbean           67.076050\n",
              "Middle East and North Africa          65.609118\n",
              "North America and ANZ                 72.325000\n",
              "South Asia                            62.681000\n",
              "Southeast Asia                        64.888444\n",
              "Sub-Saharan Africa                    55.886472\n",
              "Western Europe                        73.033095\n",
              "Name: Healthy life expectancy, dtype: float64"
            ]
          },
          "metadata": {
            "tags": []
          },
          "execution_count": 23
        }
      ]
    },
    {
      "cell_type": "code",
      "metadata": {
        "colab": {
          "base_uri": "https://localhost:8080/",
          "height": 463
        },
        "id": "m6PnZdMOGMrX",
        "outputId": "feb61095-fd22-4b2f-a1a0-ba43190453f5"
      },
      "source": [
        "fig, ax =plt.subplots()\n",
        "ax.bar(region_ind.index, region_ind.values,\n",
        "       color = \"darkcyan\")\n",
        "plt.xticks(rotation = 90)\n",
        "ax.set_title(\"Promedio de esperanza de vida saludable por región\")\n",
        "plt.show()\n"
      ],
      "execution_count": null,
      "outputs": [
        {
          "output_type": "display_data",
          "data": {
            "image/png": "[encoded data removed]",
            "text/plain": [
              "<Figure size 432x288 with 1 Axes>"
            ]
          },
          "metadata": {
            "tags": [],
            "needs_background": "light"
          }
        }
      ]
    },
    {
      "cell_type": "markdown",
      "metadata": {
        "id": "fH1hIqJYG7dl"
      },
      "source": [
        "Las regiones con el mayor promedio de esperanza de vida saludables son: Europa Occidental, Norteamérica, Australia y Nueva Zelanda, y Asia del Este. La región que menor esperanza de vida saludable registra es África Subsahariana, lo cual refleja un sistema de salud y condiciones de calidad de vida precarias. "
      ]
    },
    {
      "cell_type": "markdown",
      "metadata": {
        "id": "htH9gvQZxI3X"
      },
      "source": [
        "###**Apoyo Social**\n",
        "*Medido por tener un circulo social con quien contar en tiempos de problemas*"
      ]
    },
    {
      "cell_type": "code",
      "metadata": {
        "colab": {
          "base_uri": "https://localhost:8080/",
          "height": 281
        },
        "id": "_pcdUd_BmSeV",
        "outputId": "900bc427-ef16-4459-ff0c-0dc3f91ca705"
      },
      "source": [
        "fig, ax = plt.subplots()\n",
        "ax.hist(Felicidad_mundial[\"Explained by: Social support\"], color = \"darkorange\", bins = 25)\n",
        "ax.set_title(\"Distribución Apoyo Social\")\n",
        "plt.show()"
      ],
      "execution_count": null,
      "outputs": [
        {
          "output_type": "display_data",
          "data": {
            "image/png": "[encoded data removed]",
            "text/plain": [
              "<Figure size 432x288 with 1 Axes>"
            ]
          },
          "metadata": {
            "tags": [],
            "needs_background": "light"
          }
        }
      ]
    },
    {
      "cell_type": "markdown",
      "metadata": {
        "id": "Ib-Z8HWDuGdr"
      },
      "source": [
        "Es posible apreciar un sesgo hacia la derecha en la distribución de los valores de la variable Apoyo Social. Esto implica que la concentración de los datos se sitúan, en su mayoría, entre 0.8 y 1.1, lo cual quiere decir que la mayoría de los países tienen circulos sociales e institucionales consolidados. "
      ]
    },
    {
      "cell_type": "markdown",
      "metadata": {
        "id": "VAgG35AwyiRD"
      },
      "source": [
        "###**Generosidad**\n",
        "*Existen estudios que destacan la importancia que tienen las relaciones sociales caracterizadas por la confianza, la generosidad y la identidad social compartida, en el nivel de felicidad. Por lo que, si los estados quieren contribuir a la felicidad de sus ciudadanos deben procurar que las políticas se diseñen y se ejecuten en forma que protejan e enriquezcan esos valores sociales*"
      ]
    },
    {
      "cell_type": "code",
      "metadata": {
        "colab": {
          "base_uri": "https://localhost:8080/",
          "height": 281
        },
        "id": "seDruCFinttP",
        "outputId": "39561c46-3f19-4964-a4fd-f84fbc28b4d8"
      },
      "source": [
        "fig, ax = plt.subplots()\n",
        "ax.hist(Felicidad_mundial[\"Explained by: Generosity\"], color = \"orangered\", bins = 25)\n",
        "ax.set_title(\"Distribución Generosidad\")\n",
        "plt.show()"
      ],
      "execution_count": null,
      "outputs": [
        {
          "output_type": "display_data",
          "data": {
            "image/png": "[encoded data removed]",
            "text/plain": [
              "<Figure size 432x288 with 1 Axes>"
            ]
          },
          "metadata": {
            "tags": [],
            "needs_background": "light"
          }
        }
      ]
    },
    {
      "cell_type": "markdown",
      "metadata": {
        "id": "hTM-1VKHuoSy"
      },
      "source": [
        "Es posible apreciar un sesgo en los valores de la variable Generosidad hacia la izquierda, lo cual implica que en la mayoría de países no se inculca una cultura que priorice y prolifere valores sociales. "
      ]
    },
    {
      "cell_type": "markdown",
      "metadata": {
        "id": "eSESHUttxLqg"
      },
      "source": [
        "###**Libertad para toma de decisiones**\n",
        "*Que cada individuo tenga la capacidad de autonomía e independencia para tomar sus propias decisiones, sin la interferencia de otros individuos e instituciones.*"
      ]
    },
    {
      "cell_type": "code",
      "metadata": {
        "colab": {
          "base_uri": "https://localhost:8080/",
          "height": 311
        },
        "id": "3FLwB2XtCDsQ",
        "outputId": "eb4fcda7-2549-44b9-97b7-b8bf284370a9"
      },
      "source": [
        "Felicidad_mundial[(Felicidad_mundial[\"Freedom to make life choices\"] > 0.5) & (Felicidad_mundial[\"Regional indicator\"] == \"East Asia\")].sort_values(\"Freedom to make life choices\").head(3)"
      ],
      "execution_count": null,
      "outputs": [
        {
          "output_type": "execute_result",
          "data": {
            "text/html": [
              "<div>\n",
              "<style scoped>\n",
              "    .dataframe tbody tr th:only-of-type {\n",
              "        vertical-align: middle;\n",
              "    }\n",
              "\n",
              "    .dataframe tbody tr th {\n",
              "        vertical-align: top;\n",
              "    }\n",
              "\n",
              "    .dataframe thead th {\n",
              "        text-align: right;\n",
              "    }\n",
              "</style>\n",
              "<table border=\"1\" class=\"dataframe\">\n",
              "  <thead>\n",
              "    <tr style=\"text-align: right;\">\n",
              "      <th></th>\n",
              "      <th>Country name</th>\n",
              "      <th>Regional indicator</th>\n",
              "      <th>Ladder score</th>\n",
              "      <th>Standard error of ladder score</th>\n",
              "      <th>upperwhisker</th>\n",
              "      <th>lowerwhisker</th>\n",
              "      <th>Logged GDP per capita</th>\n",
              "      <th>Social support</th>\n",
              "      <th>Healthy life expectancy</th>\n",
              "      <th>Freedom to make life choices</th>\n",
              "      <th>Generosity</th>\n",
              "      <th>Perceptions of corruption</th>\n",
              "      <th>Ladder score in Dystopia</th>\n",
              "      <th>Explained by: Log GDP per capita</th>\n",
              "      <th>Explained by: Social support</th>\n",
              "      <th>Explained by: Healthy life expectancy</th>\n",
              "      <th>Explained by: Freedom to make life choices</th>\n",
              "      <th>Explained by: Generosity</th>\n",
              "      <th>Explained by: Perceptions of corruption</th>\n",
              "      <th>Dystopia + residual</th>\n",
              "    </tr>\n",
              "  </thead>\n",
              "  <tbody>\n",
              "    <tr>\n",
              "      <th>61</th>\n",
              "      <td>South Korea</td>\n",
              "      <td>East Asia</td>\n",
              "      <td>5.845</td>\n",
              "      <td>0.042</td>\n",
              "      <td>5.928</td>\n",
              "      <td>5.763</td>\n",
              "      <td>10.651</td>\n",
              "      <td>0.799</td>\n",
              "      <td>73.90</td>\n",
              "      <td>0.672</td>\n",
              "      <td>-0.083</td>\n",
              "      <td>0.727</td>\n",
              "      <td>2.43</td>\n",
              "      <td>1.403</td>\n",
              "      <td>0.758</td>\n",
              "      <td>0.801</td>\n",
              "      <td>0.353</td>\n",
              "      <td>0.134</td>\n",
              "      <td>0.135</td>\n",
              "      <td>2.262</td>\n",
              "    </tr>\n",
              "    <tr>\n",
              "      <th>69</th>\n",
              "      <td>Mongolia</td>\n",
              "      <td>East Asia</td>\n",
              "      <td>5.677</td>\n",
              "      <td>0.042</td>\n",
              "      <td>5.760</td>\n",
              "      <td>5.595</td>\n",
              "      <td>9.400</td>\n",
              "      <td>0.935</td>\n",
              "      <td>62.50</td>\n",
              "      <td>0.708</td>\n",
              "      <td>0.116</td>\n",
              "      <td>0.856</td>\n",
              "      <td>2.43</td>\n",
              "      <td>0.966</td>\n",
              "      <td>1.065</td>\n",
              "      <td>0.442</td>\n",
              "      <td>0.397</td>\n",
              "      <td>0.263</td>\n",
              "      <td>0.053</td>\n",
              "      <td>2.492</td>\n",
              "    </tr>\n",
              "    <tr>\n",
              "      <th>76</th>\n",
              "      <td>Hong Kong S.A.R. of China</td>\n",
              "      <td>East Asia</td>\n",
              "      <td>5.477</td>\n",
              "      <td>0.049</td>\n",
              "      <td>5.573</td>\n",
              "      <td>5.380</td>\n",
              "      <td>11.000</td>\n",
              "      <td>0.836</td>\n",
              "      <td>76.82</td>\n",
              "      <td>0.717</td>\n",
              "      <td>0.067</td>\n",
              "      <td>0.403</td>\n",
              "      <td>2.43</td>\n",
              "      <td>1.525</td>\n",
              "      <td>0.841</td>\n",
              "      <td>0.893</td>\n",
              "      <td>0.408</td>\n",
              "      <td>0.232</td>\n",
              "      <td>0.342</td>\n",
              "      <td>1.236</td>\n",
              "    </tr>\n",
              "  </tbody>\n",
              "</table>\n",
              "</div>"
            ],
            "text/plain": [
              "                 Country name  ... Dystopia + residual\n",
              "61                South Korea  ...               2.262\n",
              "69                   Mongolia  ...               2.492\n",
              "76  Hong Kong S.A.R. of China  ...               1.236\n",
              "\n",
              "[3 rows x 20 columns]"
            ]
          },
          "metadata": {
            "tags": []
          },
          "execution_count": 32
        }
      ]
    },
    {
      "cell_type": "markdown",
      "metadata": {
        "id": "4P0Ki2whq8yX"
      },
      "source": [
        "Respecto a la libertad para toma de decisiones, esta correspode a el promedio nacional de respuestas a la pregunta \"¿Estás satisfecho o insatisfecho con tu libertad para escoger que hacer con tu vida?\". Realizando el análisis para la región de Asía del este, se encuentra que los tres países con el menor índice en esta categoria son Corea del Sur, Mongolia y la Región Administrativa Epecial de Hong Kong.\n",
        "Aunque Corea del Sur encabeza la lista anteriormente mencionada, cuenta con la mejor posición (61) entre los 3 países respecto a el puntaje general o Ladder score. "
      ]
    }
  ]
}